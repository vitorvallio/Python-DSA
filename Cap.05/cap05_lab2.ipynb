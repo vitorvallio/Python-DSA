{
 "cells": [
  {
   "cell_type": "markdown",
   "id": "6a6090f4",
   "metadata": {},
   "source": [
    "# Capítulo 5 - Lab2 calculadora"
   ]
  },
  {
   "cell_type": "code",
   "execution_count": 3,
   "id": "1cf5a2ac",
   "metadata": {},
   "outputs": [
    {
     "name": "stdout",
     "output_type": "stream",
     "text": [
      "=== Calculadora Simples ===\n",
      "\n",
      "1 - Soma\n",
      "2 - Subtração\n",
      "3 - Multiplicação\n",
      "4 - Divisão\n",
      "0 - Sair\n",
      "\n",
      "Divisão: 60.0 / 7.0 = 8.571428571428571\n",
      "❌ Operação inválida. Tente novamente.\n",
      "Até logo!\n"
     ]
    }
   ],
   "source": [
    "def soma(a, b):\n",
    "    return a + b\n",
    "\n",
    "def subtracao(a, b):\n",
    "    return a - b\n",
    "\n",
    "def multiplicacao(a, b):\n",
    "    return a * b\n",
    "\n",
    "def divisao(a, b):\n",
    "    if b == 0:\n",
    "        raise ZeroDivisionError(\"Divisão por zero não é permitida.\")\n",
    "    return a / b\n",
    "\n",
    "OPERACOES = {\n",
    "    \"1\": (\"Soma\", soma, \"+\"),\n",
    "    \"2\": (\"Subtração\", subtracao, \"-\"),\n",
    "    \"3\": (\"Multiplicação\", multiplicacao, \"*\"),\n",
    "    \"4\": (\"Divisão\", divisao, \"/\"),\n",
    "}\n",
    "\n",
    "def main():\n",
    "    print(\"=== Calculadora Simples ===\\n\")\n",
    "    for key, (nome, *_ ) in OPERACOES.items():\n",
    "        print(f\"{key} - {nome}\")\n",
    "    print(\"0 - Sair\")\n",
    "\n",
    "    while True:\n",
    "        escolha = input(\"\\nDigite o número da operação desejada: \").strip()\n",
    "        if escolha == \"0\":\n",
    "            print(\"Até logo!\")\n",
    "            break\n",
    "\n",
    "        if escolha not in OPERACOES:\n",
    "            print(\"❌ Operação inválida. Tente novamente.\")\n",
    "            continue\n",
    "\n",
    "        nome, func, simbolo = OPERACOES[escolha]\n",
    "        try:\n",
    "            x = float(input(\"Digite o primeiro número: \"))\n",
    "            y = float(input(\"Digite o segundo número: \"))\n",
    "            resultado = func(x, y)\n",
    "        except ValueError:\n",
    "            print(\"❌ Entrada inválida. Use apenas números.\")\n",
    "            continue\n",
    "        except ZeroDivisionError as e:\n",
    "            print(f\"❌ {e}\")\n",
    "            continue\n",
    "\n",
    "        print(f\"\\n{nome}: {x} {simbolo} {y} = {resultado}\")\n",
    "\n",
    "if __name__ == \"__main__\":\n",
    "    main()"
   ]
  }
 ],
 "metadata": {
  "kernelspec": {
   "display_name": "python-dsa",
   "language": "python",
   "name": "python3"
  },
  "language_info": {
   "codemirror_mode": {
    "name": "ipython",
    "version": 3
   },
   "file_extension": ".py",
   "mimetype": "text/x-python",
   "name": "python",
   "nbconvert_exporter": "python",
   "pygments_lexer": "ipython3",
   "version": "3.9.6"
  }
 },
 "nbformat": 4,
 "nbformat_minor": 5
}
