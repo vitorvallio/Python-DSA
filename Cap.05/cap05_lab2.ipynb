{
 "cells": [
  {
   "cell_type": "markdown",
   "id": "6a6090f4",
   "metadata": {},
   "source": [
    "# Capítulo 5 - Lab2 calculadora"
   ]
  },
  {
   "cell_type": "code",
   "execution_count": 3,
   "id": "1cf5a2ac",
   "metadata": {},
   "outputs": [
    {
     "name": "stdout",
     "output_type": "stream",
     "text": [
      "Calculadora Simples\n",
      "Selecione a operação:\n",
      "1 - Soma\n",
      "2 - Subtração\n",
      "3 - Multiplicação\n",
      "4 - Divisão\n",
      "222.0 * 111.0 = 24642.0\n"
     ]
    }
   ],
   "source": [
    "def soma(a, b):\n",
    "    return a + b\n",
    "\n",
    "def subtracao(a, b):\n",
    "    return a - b\n",
    "\n",
    "def multiplicacao(a, b):\n",
    "    return a * b\n",
    "\n",
    "def divisao(a, b):\n",
    "    if b != 0:\n",
    "        return a / b\n",
    "    else:\n",
    "        return \"Erro: divisão por zero\"\n",
    "\n",
    "print(\"Calculadora Simples\")\n",
    "print(\"Selecione a operação:\")\n",
    "print(\"1 - Soma\")\n",
    "print(\"2 - Subtração\")\n",
    "print(\"3 - Multiplicação\")\n",
    "print(\"4 - Divisão\")\n",
    "\n",
    "op = input(\"Digite o número da operação desejada: \")\n",
    "num1 = float(input(\"Digite o primeiro número: \"))\n",
    "num2 = float(input(\"Digite o segundo número: \"))\n",
    "\n",
    "if op == \"1\":\n",
    "    resultado = soma(num1, num2)\n",
    "    print(f\"{num1} + {num2} = {resultado}\")\n",
    "elif op == \"2\":\n",
    "    resultado = subtracao(num1, num2)\n",
    "    print(f\"{num1} - {num2} = {resultado}\")\n",
    "elif op == \"3\":\n",
    "    resultado = multiplicacao(num1, num2)\n",
    "    print(f\"{num1} * {num2} = {resultado}\")\n",
    "elif op == \"4\":\n",
    "    resultado = divisao(num1, num2)\n",
    "    print(f\"{num1} / {num2} = {resultado}\")"
   ]
  }
 ],
 "metadata": {
  "kernelspec": {
   "display_name": "python-dsa",
   "language": "python",
   "name": "python3"
  },
  "language_info": {
   "codemirror_mode": {
    "name": "ipython",
    "version": 3
   },
   "file_extension": ".py",
   "mimetype": "text/x-python",
   "name": "python",
   "nbconvert_exporter": "python",
   "pygments_lexer": "ipython3",
   "version": "3.9.6"
  }
 },
 "nbformat": 4,
 "nbformat_minor": 5
}
