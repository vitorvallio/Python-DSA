{
 "cells": [
  {
   "cell_type": "markdown",
   "id": "b40a3138",
   "metadata": {},
   "source": [
    "# Capítulo 5 - "
   ]
  }
 ],
 "metadata": {
  "language_info": {
   "name": "python"
  }
 },
 "nbformat": 4,
 "nbformat_minor": 5
}
