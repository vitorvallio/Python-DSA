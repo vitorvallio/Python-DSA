{
 "cells": [
  {
   "cell_type": "markdown",
   "id": "8cd2e69a",
   "metadata": {},
   "source": [
    "# Capítulo 5 - Loop Whilw"
   ]
  },
  {
   "cell_type": "markdown",
   "id": "965a78fd",
   "metadata": {},
   "source": [
    "## Loop While"
   ]
  },
  {
   "cell_type": "code",
   "execution_count": 23,
   "id": "d749e425",
   "metadata": {},
   "outputs": [
    {
     "name": "stdout",
     "output_type": "stream",
     "text": [
      "0\n",
      "1\n",
      "2\n",
      "3\n",
      "4\n",
      "5\n",
      "6\n",
      "7\n",
      "8\n",
      "9\n"
     ]
    }
   ],
   "source": [
    "valor = 0\n",
    "while valor < 10:\n",
    "    print(valor)\n",
    "    valor = valor+1"
   ]
  },
  {
   "cell_type": "code",
   "execution_count": 24,
   "id": "98591b10",
   "metadata": {},
   "outputs": [],
   "source": [
    "valor = 11\n",
    "while valor < 10:\n",
    "    print(v)\n",
    "    valor = valor + 1"
   ]
  },
  {
   "cell_type": "code",
   "execution_count": 25,
   "id": "44d14493",
   "metadata": {},
   "outputs": [
    {
     "name": "stdout",
     "output_type": "stream",
     "text": [
      "O valor de x nesta iteração é:  0\n",
      " x ainda é menor que qo, somando 1 a x \n",
      "\n",
      "O valor de x nesta iteração é:  1\n",
      " x ainda é menor que qo, somando 1 a x \n",
      "\n",
      "O valor de x nesta iteração é:  2\n",
      " x ainda é menor que qo, somando 1 a x \n",
      "\n",
      "O valor de x nesta iteração é:  3\n",
      " x ainda é menor que qo, somando 1 a x \n",
      "\n",
      "O valor de x nesta iteração é:  4\n",
      " x ainda é menor que qo, somando 1 a x \n",
      "\n",
      "O valor de x nesta iteração é:  5\n",
      " x ainda é menor que qo, somando 1 a x \n",
      "\n",
      "O valor de x nesta iteração é:  6\n",
      " x ainda é menor que qo, somando 1 a x \n",
      "\n",
      "O valor de x nesta iteração é:  7\n",
      " x ainda é menor que qo, somando 1 a x \n",
      "\n",
      "O valor de x nesta iteração é:  8\n",
      " x ainda é menor que qo, somando 1 a x \n",
      "\n",
      "O valor de x nesta iteração é:  9\n",
      " x ainda é menor que qo, somando 1 a x \n",
      "\n",
      "Loop concluído\n",
      "10\n"
     ]
    }
   ],
   "source": [
    "x = 0\n",
    "\n",
    "while x < 10:\n",
    "    print ('O valor de x nesta iteração é: ', x)\n",
    "    print (' x ainda é menor que qo, somando 1 a x \\n')\n",
    "    x += 1\n",
    "else:\n",
    "    print('Loop concluído')\n",
    "print(x)"
   ]
  },
  {
   "cell_type": "markdown",
   "id": "5d396878",
   "metadata": {},
   "source": [
    "## Pass, Break, Continue"
   ]
  },
  {
   "cell_type": "code",
   "execution_count": 26,
   "id": "3eb35784",
   "metadata": {},
   "outputs": [
    {
     "name": "stdout",
     "output_type": "stream",
     "text": [
      "0\n",
      "1\n",
      "2\n",
      "3\n"
     ]
    }
   ],
   "source": [
    "valor = 0\n",
    "while valor < 10:\n",
    "    if valor == 4:\n",
    "        break\n",
    "    else:\n",
    "        pass\n",
    "    print(valor)\n",
    "    valor = valor + 1"
   ]
  },
  {
   "cell_type": "code",
   "execution_count": 27,
   "id": "3b353efb",
   "metadata": {},
   "outputs": [
    {
     "name": "stdout",
     "output_type": "stream",
     "text": [
      "P\n",
      "y\n",
      "t\n",
      "h\n",
      "o\n",
      "n\n",
      " \n",
      "é\n",
      " \n",
      " \n",
      "i\n",
      "n\n",
      "c\n",
      "r\n",
      "í\n",
      "v\n",
      "e\n",
      "l\n"
     ]
    }
   ],
   "source": [
    "for letra in \"Python é zzz incrível\":\n",
    "    if letra == \"z\":\n",
    "        continue\n",
    "    print(letra)"
   ]
  },
  {
   "cell_type": "markdown",
   "id": "5f95aa3f",
   "metadata": {},
   "source": [
    "## While e For Juntos"
   ]
  },
  {
   "cell_type": "markdown",
   "id": "68e06a7e",
   "metadata": {},
   "source": [
    "\n",
    "    Um número primo é um número maior que 1\n",
    "    Para ser primo, ele deve ter apenas dois divisores:\n",
    "        1 e ele mesmo\n",
    "    Ou seja, se um número for divisível apenas por 1 e por ele mesmo,\n",
    "    então ele é considerado um número primo\n"
   ]
  },
  {
   "cell_type": "code",
   "execution_count": 28,
   "id": "71b1e0b1",
   "metadata": {},
   "outputs": [
    {
     "name": "stdout",
     "output_type": "stream",
     "text": [
      "[2, 3, 5, 7, 11, 13, 17, 19, 23, 29]\n",
      "CPU times: user 46 µs, sys: 3 µs, total: 49 µs\n",
      "Wall time: 49.1 µs\n"
     ]
    }
   ],
   "source": [
    "%%time\n",
    "\n",
    "primos = []\n",
    "for num in range(2,31):\n",
    "    eh_primo = True\n",
    "    i = 2\n",
    "    while i <= num // 2:\n",
    "        if num % i == 0:\n",
    "            eh_primo = False\n",
    "            break\n",
    "        i += 1\n",
    "    if eh_primo:\n",
    "        primos.append(num)\n",
    "print(primos)"
   ]
  },
  {
   "cell_type": "code",
   "execution_count": 29,
   "id": "2d67e80e",
   "metadata": {},
   "outputs": [
    {
     "name": "stdout",
     "output_type": "stream",
     "text": [
      "2 é um número primo\n",
      "3 é um número primo\n",
      "5 é um número primo\n",
      "7 é um número primo\n",
      "11 é um número primo\n",
      "13 é um número primo\n",
      "17 é um número primo\n",
      "19 é um número primo\n",
      "23 é um número primo\n",
      "29 é um número primo\n",
      "CPU times: user 270 µs, sys: 56 µs, total: 326 µs\n",
      "Wall time: 311 µs\n"
     ]
    }
   ],
   "source": [
    "%%time\n",
    "\n",
    "for i in range(2,31):\n",
    "    j = 2\n",
    "    valor = 0\n",
    "    while j < i:\n",
    "        if i % j == 0:\n",
    "            valor = 1\n",
    "            j = j + 1\n",
    "        else:\n",
    "            j = j + 1\n",
    "    if valor == 0:\n",
    "        print(str(i) + \" é um número primo\")\n",
    "        valor = 0\n",
    "    else: valor = 0\n"
   ]
  },
  {
   "cell_type": "markdown",
   "id": "79e56472",
   "metadata": {},
   "source": [
    "# FIM"
   ]
  }
 ],
 "metadata": {
  "kernelspec": {
   "display_name": "python-dsa",
   "language": "python",
   "name": "python3"
  },
  "language_info": {
   "codemirror_mode": {
    "name": "ipython",
    "version": 3
   },
   "file_extension": ".py",
   "mimetype": "text/x-python",
   "name": "python",
   "nbconvert_exporter": "python",
   "pygments_lexer": "ipython3",
   "version": "3.9.6"
  }
 },
 "nbformat": 4,
 "nbformat_minor": 5
}
