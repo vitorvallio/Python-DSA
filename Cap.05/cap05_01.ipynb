{
 "cells": [
  {
   "cell_type": "markdown",
   "id": "3300539e",
   "metadata": {},
   "source": [
    "# Capítulo 5 - Condicionais"
   ]
  },
  {
   "cell_type": "markdown",
   "id": "92c5912d",
   "metadata": {},
   "source": [
    "## Condicional `if`"
   ]
  },
  {
   "cell_type": "code",
   "execution_count": 28,
   "id": "c36e8674",
   "metadata": {},
   "outputs": [
    {
     "name": "stdout",
     "output_type": "stream",
     "text": [
      "A sentença é verdadeira\n"
     ]
    }
   ],
   "source": [
    "if 5 > 2:\n",
    "    print(\"A sentença é verdadeira\")"
   ]
  },
  {
   "cell_type": "code",
   "execution_count": 29,
   "id": "d498c15b",
   "metadata": {},
   "outputs": [
    {
     "name": "stdout",
     "output_type": "stream",
     "text": [
      "A sentença é falsa\n"
     ]
    }
   ],
   "source": [
    "if 5 < 2:\n",
    "    print(\"A sentença é verdadeira\")\n",
    "else:\n",
    "    print(\"A sentença é falsa\")"
   ]
  },
  {
   "cell_type": "code",
   "execution_count": 30,
   "id": "b3127d1d",
   "metadata": {},
   "outputs": [
    {
     "name": "stdout",
     "output_type": "stream",
     "text": [
      "Hoje não fará sol\n"
     ]
    }
   ],
   "source": [
    "dia = \"terça\"\n",
    "if dia == \"segunda\":\n",
    "    print(\"Hoje fará sol\")\n",
    "else:\n",
    "    print(\"Hoje não fará sol\")"
   ]
  },
  {
   "cell_type": "code",
   "execution_count": 31,
   "id": "5362619c",
   "metadata": {},
   "outputs": [
    {
     "name": "stdout",
     "output_type": "stream",
     "text": [
      "Hoje vai chover\n"
     ]
    }
   ],
   "source": [
    "if dia == \"segunda\":\n",
    "    print(\"Hoje fará sol\")\n",
    "elif dia == \"terça\":\n",
    "    print(\"Hoje vai chover\")\n",
    "else:\n",
    "    print(\"sem previsão do tempo\")"
   ]
  },
  {
   "cell_type": "markdown",
   "id": "765f8d95",
   "metadata": {},
   "source": [
    "## Operadores Relacionais"
   ]
  },
  {
   "cell_type": "code",
   "execution_count": 32,
   "id": "c9212ff3",
   "metadata": {},
   "outputs": [
    {
     "data": {
      "text/plain": [
       "True"
      ]
     },
     "execution_count": 32,
     "metadata": {},
     "output_type": "execute_result"
    }
   ],
   "source": [
    "6 > 3"
   ]
  },
  {
   "cell_type": "code",
   "execution_count": 33,
   "id": "09b8cf47",
   "metadata": {},
   "outputs": [
    {
     "data": {
      "text/plain": [
       "False"
      ]
     },
     "execution_count": 33,
     "metadata": {},
     "output_type": "execute_result"
    }
   ],
   "source": [
    "3 > 7"
   ]
  },
  {
   "cell_type": "code",
   "execution_count": 34,
   "id": "fae4b67a",
   "metadata": {},
   "outputs": [
    {
     "data": {
      "text/plain": [
       "True"
      ]
     },
     "execution_count": 34,
     "metadata": {},
     "output_type": "execute_result"
    }
   ],
   "source": [
    "4 < 8"
   ]
  },
  {
   "cell_type": "code",
   "execution_count": 35,
   "id": "180e0966",
   "metadata": {},
   "outputs": [
    {
     "data": {
      "text/plain": [
       "True"
      ]
     },
     "execution_count": 35,
     "metadata": {},
     "output_type": "execute_result"
    }
   ],
   "source": [
    "4 >= 4"
   ]
  },
  {
   "cell_type": "code",
   "execution_count": 36,
   "id": "adfd1291",
   "metadata": {},
   "outputs": [
    {
     "name": "stdout",
     "output_type": "stream",
     "text": [
      "A sentença é verdadeira\n"
     ]
    }
   ],
   "source": [
    "if 5 == 5:\n",
    "    print(\"A sentença é verdadeira\")"
   ]
  },
  {
   "cell_type": "code",
   "execution_count": 37,
   "id": "0d9c21ff",
   "metadata": {},
   "outputs": [
    {
     "name": "stdout",
     "output_type": "stream",
     "text": [
      "A sentença é verdadeira\n"
     ]
    }
   ],
   "source": [
    "if True:\n",
    "    print(\"A sentença é verdadeira\")"
   ]
  },
  {
   "cell_type": "code",
   "execution_count": 38,
   "id": "13b733f1",
   "metadata": {},
   "outputs": [
    {
     "name": "stdout",
     "output_type": "stream",
     "text": [
      "A sentença é verdadeira\n"
     ]
    }
   ],
   "source": [
    "if 4 > 3:\n",
    "    print(\"A sentença é verdadeira\")"
   ]
  },
  {
   "cell_type": "code",
   "execution_count": 40,
   "id": "a4a15b2f",
   "metadata": {},
   "outputs": [],
   "source": [
    "#if 4 > 3:\n",
    "#print(\"A sentença é verdadeira\")"
   ]
  },
  {
   "cell_type": "markdown",
   "id": "9b1a07e8",
   "metadata": {},
   "source": [
    "## Condicinoais Aninhados"
   ]
  },
  {
   "cell_type": "code",
   "execution_count": 42,
   "id": "2391cf92",
   "metadata": {},
   "outputs": [
    {
     "name": "stdout",
     "output_type": "stream",
     "text": [
      "Você é maior de idade\n"
     ]
    }
   ],
   "source": [
    "idade = 18\n",
    "if idade > 17:\n",
    "    print(\"Você é maior de idade\")"
   ]
  },
  {
   "cell_type": "code",
   "execution_count": 44,
   "id": "2e5f8559",
   "metadata": {},
   "outputs": [
    {
     "name": "stdout",
     "output_type": "stream",
     "text": [
      "Ok Bob, você pode entrar\n"
     ]
    }
   ],
   "source": [
    "nome = \"Bob\"\n",
    "if idade > 13:\n",
    "    if nome == \"Bob\":\n",
    "        print(\"Ok Bob, você pode entrar\")\n",
    "    else:\n",
    "        print(\"Desculpe, você não pode entrar\")"
   ]
  },
  {
   "cell_type": "code",
   "execution_count": 48,
   "id": "1214a48c",
   "metadata": {},
   "outputs": [
    {
     "name": "stdout",
     "output_type": "stream",
     "text": [
      "Ok Bob, você está autorizado a entrar!\n"
     ]
    }
   ],
   "source": [
    "idade = 13\n",
    "nome = \"Bob\"\n",
    "if idade >= 13 and nome == \"Bob\":\n",
    "    print(\"Ok Bob, você está autorizado a entrar!\")"
   ]
  },
  {
   "cell_type": "code",
   "execution_count": 50,
   "id": "0846c82c",
   "metadata": {},
   "outputs": [
    {
     "name": "stdout",
     "output_type": "stream",
     "text": [
      "Ok Bob, você está autorizado a entrar!\n"
     ]
    }
   ],
   "source": [
    "idade = 12\n",
    "nome = \"Bob\"\n",
    "if (idade >= 13) or (nome == \"Bob\"):\n",
    "    print(\"Ok Bob, você está autorizado a entrar!\")"
   ]
  },
  {
   "cell_type": "markdown",
   "id": "aa5ab0aa",
   "metadata": {},
   "source": [
    "## Operadores Lógicos"
   ]
  },
  {
   "cell_type": "code",
   "execution_count": 52,
   "id": "608241ee",
   "metadata": {},
   "outputs": [
    {
     "name": "stdout",
     "output_type": "stream",
     "text": [
      "Você é maior de idade\n"
     ]
    }
   ],
   "source": [
    "idade = 18\n",
    "nome = \"Bob\"\n",
    "if idade > 17:\n",
    "    print(\"Você é maior de idade\")"
   ]
  },
  {
   "cell_type": "code",
   "execution_count": 53,
   "id": "c25aba90",
   "metadata": {},
   "outputs": [
    {
     "name": "stdout",
     "output_type": "stream",
     "text": [
      "Autorizado\n"
     ]
    }
   ],
   "source": [
    "idade = 18\n",
    "if idade > 17 and nome == \"Bob\":\n",
    "    print(\"Autorizado\")"
   ]
  },
  {
   "cell_type": "markdown",
   "id": "0c1b9d0b",
   "metadata": {},
   "source": [
    "operadores lógicos funcionando assim:\n",
    "\n",
    "- `and`: verdadeiro se ambos os lados forem verdadeiros\n",
    "- `or`: verdadeiro se pelo menos um dos lados for verdadeiro\n",
    "- `not`: inverte o valor lógico (verdadeiro se falso, e vice-versa)"
   ]
  },
  {
   "cell_type": "code",
   "execution_count": 55,
   "id": "8d2b2ec1",
   "metadata": {},
   "outputs": [
    {
     "name": "stdout",
     "output_type": "stream",
     "text": [
      "O número é maior que 2 e é par\n"
     ]
    }
   ],
   "source": [
    "numero = 4\n",
    "\n",
    "if (numero > 2) and (numero % 2 == 0):\n",
    "    print(\"O número é maior que 2 e é par\")"
   ]
  },
  {
   "cell_type": "code",
   "execution_count": 57,
   "id": "afd22711",
   "metadata": {},
   "outputs": [
    {
     "name": "stdout",
     "output_type": "stream",
     "text": [
      "O número não é maior que 5 ou não é par\n"
     ]
    }
   ],
   "source": [
    "nuemro = 4\n",
    "\n",
    "if (numero > 5) and (numero % 2 == 0):\n",
    "    print(\"O número é maior que 5 e é par\")\n",
    "else:\n",
    "    print(\"O número não é maior que 5 ou não é par\")"
   ]
  },
  {
   "cell_type": "code",
   "execution_count": 59,
   "id": "832999af",
   "metadata": {},
   "outputs": [
    {
     "name": "stdout",
     "output_type": "stream",
     "text": [
      "O número é maior que 5 ou é par\n"
     ]
    }
   ],
   "source": [
    "numero = 4\n",
    "\n",
    "if (numero > 5) or (numero % 2 == 0):\n",
    "    print(\"O número é maior que 5 ou é par\")"
   ]
  },
  {
   "cell_type": "code",
   "execution_count": 63,
   "id": "fdd6c8ad",
   "metadata": {},
   "outputs": [
    {
     "name": "stdout",
     "output_type": "stream",
     "text": [
      "O número não é maior que 5 e é par\n"
     ]
    }
   ],
   "source": [
    "numero = 4\n",
    "\n",
    "if not (numero > 5) and (numero % 2 == 0):\n",
    "    print(\"O número não é maior que 5 e é par\")\n",
    "else:\n",
    "    print(\"O número é maior que 5 ou não é par\")"
   ]
  },
  {
   "cell_type": "code",
   "execution_count": 65,
   "id": "79067eb5",
   "metadata": {},
   "outputs": [
    {
     "name": "stdout",
     "output_type": "stream",
     "text": [
      "O número não é maior que 5 e é par ou é igual a 4\n"
     ]
    }
   ],
   "source": [
    "numero = 4\n",
    "\n",
    "if (not(nuemro > 5)) and (numero % 2 == 0) or (numero == 4):\n",
    "    print(\"O número não é maior que 5 e é par ou é igual a 4\")"
   ]
  },
  {
   "cell_type": "code",
   "execution_count": 69,
   "id": "d345285a",
   "metadata": {},
   "outputs": [
    {
     "name": "stdout",
     "output_type": "stream",
     "text": [
      "Você foi aprovado na disciplina de Data Science\n"
     ]
    }
   ],
   "source": [
    "disciplina = \"Data Science\"\n",
    "nota_final = 70\n",
    "\n",
    "if disciplina == \"Data Science\" and nota_final >= 70:\n",
    "    print(\"Você foi aprovado na disciplina de Data Science\")\n",
    "else:\n",
    "    print(\"Você não foi aprovado na disciplina de Data Science\")"
   ]
  },
  {
   "cell_type": "code",
   "execution_count": 71,
   "id": "b5116871",
   "metadata": {},
   "outputs": [
    {
     "name": "stdout",
     "output_type": "stream",
     "text": [
      "Você não foi aprovado na disciplina de Data Science\n"
     ]
    }
   ],
   "source": [
    "disciplina = \"Data Science\"\n",
    "nota_final = 60\n",
    "\n",
    "if disciplina == \"Data Science\" and nota_final >= 70:\n",
    "    print(\"Você foi aprovado na disciplina de Data Science\")\n",
    "else:\n",
    "    print(\"Você não foi aprovado na disciplina de Data Science\")"
   ]
  },
  {
   "cell_type": "code",
   "execution_count": 72,
   "id": "976c10d2",
   "metadata": {},
   "outputs": [
    {
     "name": "stdout",
     "output_type": "stream",
     "text": [
      "Você foi aprovado em Data Science com média 90!\n"
     ]
    }
   ],
   "source": [
    "disciplina = \"Data Science\"\n",
    "nota_final = 90\n",
    "semestre = 2\n",
    "\n",
    "if disciplina == \"Data Science\" and nota_final >= 80 and semestre != 1:\n",
    "    print('Você foi aprovado em %s com média %r!' % (disciplina, nota_final))\n",
    "else:\n",
    "    print('Você não foi aprovado em %s com média %r!' % (disciplina, nota_final))"
   ]
  },
  {
   "cell_type": "markdown",
   "id": "d7cbb6b5",
   "metadata": {},
   "source": [
    "# FIM"
   ]
  }
 ],
 "metadata": {
  "kernelspec": {
   "display_name": "python-dsa",
   "language": "python",
   "name": "python3"
  },
  "language_info": {
   "codemirror_mode": {
    "name": "ipython",
    "version": 3
   },
   "file_extension": ".py",
   "mimetype": "text/x-python",
   "name": "python",
   "nbconvert_exporter": "python",
   "pygments_lexer": "ipython3",
   "version": "3.9.6"
  }
 },
 "nbformat": 4,
 "nbformat_minor": 5
}
