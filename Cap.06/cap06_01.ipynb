{
 "cells": [
  {
   "cell_type": "markdown",
   "id": "0b23b1f5",
   "metadata": {},
   "source": [
    "# Capítulo 6 - Manipulação de arquivos - parte 1"
   ]
  },
  {
   "cell_type": "markdown",
   "id": "8d762e9f",
   "metadata": {},
   "source": [
    "## Manipulação de arquivo"
   ]
  },
  {
   "cell_type": "markdown",
   "id": "4b37d1a1",
   "metadata": {},
   "source": [
    "### Lendo o arquivo"
   ]
  },
  {
   "cell_type": "code",
   "execution_count": 19,
   "id": "13ba00c1",
   "metadata": {},
   "outputs": [],
   "source": [
    "arql = open(\"arquivos/arquivo1.txt\", \"r\")"
   ]
  },
  {
   "cell_type": "code",
   "execution_count": 20,
   "id": "a84ec478",
   "metadata": {},
   "outputs": [
    {
     "data": {
      "text/plain": [
       "_io.TextIOWrapper"
      ]
     },
     "execution_count": 20,
     "metadata": {},
     "output_type": "execute_result"
    }
   ],
   "source": [
    "type(arql)"
   ]
  },
  {
   "cell_type": "code",
   "execution_count": 21,
   "id": "22e63f27",
   "metadata": {},
   "outputs": [
    {
     "name": "stdout",
     "output_type": "stream",
     "text": [
      "A Data Science Academy fornece cursos de alta qualidade e que transmitem muito conhecimento.\n"
     ]
    }
   ],
   "source": [
    "print(arql.read())"
   ]
  },
  {
   "cell_type": "code",
   "execution_count": 22,
   "id": "d542084b",
   "metadata": {},
   "outputs": [
    {
     "name": "stdout",
     "output_type": "stream",
     "text": [
      "92\n"
     ]
    }
   ],
   "source": [
    "print(arql.tell())"
   ]
  },
  {
   "cell_type": "code",
   "execution_count": 23,
   "id": "9870e885",
   "metadata": {},
   "outputs": [
    {
     "name": "stdout",
     "output_type": "stream",
     "text": [
      "0\n"
     ]
    }
   ],
   "source": [
    "print(arql.seek(0,0))"
   ]
  },
  {
   "cell_type": "code",
   "execution_count": 24,
   "id": "78682d7e",
   "metadata": {},
   "outputs": [
    {
     "name": "stdout",
     "output_type": "stream",
     "text": [
      "A Data Science Academy fornece cursos de alta qualidade e que transmitem muito conhecimento.\n"
     ]
    }
   ],
   "source": [
    "print(arql.read())"
   ]
  },
  {
   "cell_type": "markdown",
   "id": "544ccc3c",
   "metadata": {},
   "source": [
    "### Gravando arquivos"
   ]
  }
 ],
 "metadata": {
  "kernelspec": {
   "display_name": "python-dsa",
   "language": "python",
   "name": "python3"
  },
  "language_info": {
   "codemirror_mode": {
    "name": "ipython",
    "version": 3
   },
   "file_extension": ".py",
   "mimetype": "text/x-python",
   "name": "python",
   "nbconvert_exporter": "python",
   "pygments_lexer": "ipython3",
   "version": "3.9.6"
  }
 },
 "nbformat": 4,
 "nbformat_minor": 5
}
