{
 "cells": [
  {
   "cell_type": "markdown",
   "id": "742f2f97",
   "metadata": {},
   "source": [
    "# Pseudocodigo para calcular a área de um paralelogramo"
   ]
  },
  {
   "cell_type": "markdown",
   "id": "8570890a",
   "metadata": {},
   "source": [
    "\n",
    "    Solicitar ao usuário o valor da base do paralelogramo\n",
    "    Solicitar ao usuário o valor da altura do paralelogramo\n",
    "    Calcular a área: área = base * altura\n",
    "\n",
    "    Criar uma figura para desenhar o paralelogramo\n",
    "    Definir o deslocamento para o paralelogramo\n",
    "    Criar o paralelogramo com base, altura e deslocamento\n",
    "    Adicionar o paralelogramo à figura\n",
    "\n",
    "    Calcular o centro do paralelogramo\n",
    "    Escrever o valor da área centralizado dentro do paralelogramo\n",
    "\n",
    "    Ajustar os limites da figura e remover os eixos\n",
    "    Exibir a figura"
   ]
  },
  {
   "cell_type": "code",
   "execution_count": 27,
   "id": "94257046",
   "metadata": {},
   "outputs": [
    {
     "data": {
      "image/png": "[encoded data removed]",
      "text/plain": [
       "<Figure size 600x400 with 1 Axes>"
      ]
     },
     "metadata": {},
     "output_type": "display_data"
    }
   ],
   "source": [
    "import matplotlib.pyplot as plt\n",
    "import matplotlib.patches as patches\n",
    "\n",
    "# Solicita os valores ao usuário\n",
    "base = float(input(\"Digite o valor da base do paralelograma: \"))\n",
    "altura = float(input(\"Digite o valor da altura do paralelograma: \"))\n",
    "\n",
    "# Calcula a área\n",
    "area = base * altura\n",
    "\n",
    "# Cria a figura\n",
    "fig, ax = plt.subplots(figsize=(6, 4))\n",
    "\n",
    "# Define o deslocamento para o paralelogramo\n",
    "deslocamento = base * 0.3\n",
    "\n",
    "# Cria o paralelogramo\n",
    "paralelogramo = patches.Polygon(\n",
    "    [[deslocamento, 0], [deslocamento + base, 0], [base, altura], [0, altura]],\n",
    "    closed=True, edgecolor='black', facecolor='skyblue'\n",
    ")\n",
    "ax.add_patch(paralelogramo)\n",
    "\n",
    "# Centraliza o número da área\n",
    "centro_x = deslocamento + base / 2\n",
    "centro_y = altura / 2\n",
    "ax.text(centro_x, centro_y, f\"{area:.2f}\", \n",
    "    fontsize=18, \n",
    "    ha='center', \n",
    "    va='center', \n",
    "    color='black', \n",
    "    weight='bold'\n",
    ")\n",
    "\n",
    "# Ajusta os limites e remove eixos\n",
    "ax.set_xlim(-1, deslocamento + base + 1)\n",
    "ax.set_ylim(-1, altura + 1)\n",
    "ax.axis('off')\n",
    "\n",
    "plt.show()"
   ]
  }
 ],
 "metadata": {
  "kernelspec": {
   "display_name": "python-dsa",
   "language": "python",
   "name": "python3"
  },
  "language_info": {
   "codemirror_mode": {
    "name": "ipython",
    "version": 3
   },
   "file_extension": ".py",
   "mimetype": "text/x-python",
   "name": "python",
   "nbconvert_exporter": "python",
   "pygments_lexer": "ipython3",
   "version": "3.9.6"
  }
 },
 "nbformat": 4,
 "nbformat_minor": 5
}
