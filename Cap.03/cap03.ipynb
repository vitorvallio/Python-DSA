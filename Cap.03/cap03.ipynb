{
 "cells": [
  {
   "cell_type": "markdown",
   "id": "742f2f97",
   "metadata": {},
   "source": [
    "# Pseudocodigo para calcular a área de um paralelogramo"
   ]
  },
  {
   "cell_type": "markdown",
   "id": "8570890a",
   "metadata": {},
   "source": [
    "\n",
    "    Solicitar ao usuário o valor da base do paralelogramo\n",
    "    Solicitar ao usuário o valor da altura do paralelogramo\n",
    "    Calcular a área: área = base * altura\n",
    "\n",
    "    Criar uma figura para desenhar o paralelogramo\n",
    "    Definir o deslocamento para o paralelogramo\n",
    "    Criar o paralelogramo com base, altura e deslocamento\n",
    "    Adicionar o paralelogramo à figura\n",
    "\n",
    "    Calcular o centro do paralelogramo\n",
    "    Escrever o valor da área centralizado dentro do paralelogramo\n",
    "\n",
    "    Ajustar os limites da figura e remover os eixos\n",
    "    Exibir a figura"
   ]
  },
  {
   "cell_type": "code",
   "execution_count": 45,
   "id": "94257046",
   "metadata": {},
   "outputs": [
    {
     "data": {
      "image/png": "[encoded data removed]",
      "text/plain": [
       "<Figure size 600x400 with 1 Axes>"
      ]
     },
     "metadata": {},
     "output_type": "display_data"
    }
   ],
   "source": [
    "import matplotlib.pyplot as plt\n",
    "import matplotlib.patches as patches\n",
    "\n",
    "# Solicita os valores ao usuário\n",
    "base = float(input(\"Digite o valor da base do paralelograma: \"))\n",
    "altura = float(input(\"Digite o valor da altura do paralelograma: \"))\n",
    "\n",
    "# Calcula a área\n",
    "area = base * altura\n",
    "\n",
    "# Cria a figura\n",
    "fig, ax = plt.subplots(figsize=(6, 4))\n",
    "\n",
    "# Define o deslocamento para o paralelogramo\n",
    "deslocamento = base * 0.3\n",
    "\n",
    "# Cria o paralelogramo\n",
    "paralelogramo = patches.Polygon(\n",
    "    [[deslocamento, 0], [deslocamento + base, 0], [base, altura], [0, altura]],\n",
    "    closed=True, edgecolor='black', facecolor='skyblue'\n",
    ")\n",
    "ax.add_patch(paralelogramo)\n",
    "\n",
    "# Centraliza o número da área\n",
    "centro_x = deslocamento + base / 2\n",
    "centro_y = altura / 2\n",
    "ax.text(centro_x, centro_y, f\"{area:.2f}\", \n",
    "    fontsize=18, \n",
    "    ha='center', \n",
    "    va='center', \n",
    "    color='black', \n",
    "    weight='bold'\n",
    ")\n",
    "\n",
    "# Ajusta os limites e remove eixos\n",
    "ax.set_xlim(-1, deslocamento + base + 1)\n",
    "ax.set_ylim(-1, altura + 1)\n",
    "ax.axis('off')\n",
    "\n",
    "plt.show()"
   ]
  },
  {
   "cell_type": "markdown",
   "id": "acca1559",
   "metadata": {},
   "source": [
    "# Criando pseudocódigo para gerar uma calculadora"
   ]
  },
  {
   "cell_type": "markdown",
   "id": "f0e86b0a",
   "metadata": {},
   "source": [
    "    Exibir opções de operações (+, -, *, /)\n",
    "    Solicitar ao usuário que escolha uma operação\n",
    "    Solicitar ao usuário o primeiro número\n",
    "    Solicitar ao usuário o segundo número\n",
    "\n",
    "    Se operação for soma\n",
    "        resultado ← primeiro número + segundo número\n",
    "    Senão se operação for subtração\n",
    "        resultado ← primeiro número - segundo número\n",
    "    Senão se operação for multiplicação\n",
    "        resultado ← primeiro número * segundo número\n",
    "    Senão se operação for divisão\n",
    "        Se segundo número ≠ 0\n",
    "            resultado ← primeiro número / segundo número\n",
    "        Senão\n",
    "            Exibir \"Erro: divisão por zero\"\n",
    "            Encerrar\n",
    "    Senão\n",
    "        Exibir \"Operação inválida\"\n",
    "        Encerrar\n",
    "\n",
    "    Exibir o resultado"
   ]
  },
  {
   "cell_type": "code",
   "execution_count": 46,
   "id": "d5ae4d32",
   "metadata": {},
   "outputs": [
    {
     "name": "stdout",
     "output_type": "stream",
     "text": [
      "Selecione a operação:\n",
      "+ para soma\n",
      "- para subtração\n",
      "* para multiplicação\n",
      "/ para divisão\n",
      "Resultado: 6.0\n"
     ]
    }
   ],
   "source": [
    "# Calculadora simples\n",
    "\n",
    "print(\"Selecione a operação:\")\n",
    "print(\"+ para soma\")\n",
    "print(\"- para subtração\")\n",
    "print(\"* para multiplicação\")\n",
    "print(\"/ para divisão\")\n",
    "\n",
    "operacao = input(\"Digite a operação desejada (+, -, *, /): \")\n",
    "num1 = float(input(\"Digite o primeiro número: \"))\n",
    "num2 = float(input(\"Digite o segundo número: \"))\n",
    "\n",
    "\n",
    "if operacao == \"+\":\n",
    "    resultado = num1 + num2\n",
    "    print(\"Resultado:\", resultado)\n",
    "elif operacao == \"-\":\n",
    "    resultado = num1 - num2\n",
    "    print(\"Resultado:\", resultado)\n",
    "elif operacao == \"*\":\n",
    "    resultado = num1 * num2\n",
    "    print(\"Resultado:\", resultado)\n",
    "elif operacao == \"/\":\n",
    "    if num2 != 0:\n",
    "        resultado = num1 / num2\n",
    "        print(\"Resultado:\", resultado)\n",
    "    else:\n",
    "        print(\"Erro: divisão por zero\")\n",
    "else:\n",
    "    print(\"Operação inválida\")"
   ]
  },
  {
   "cell_type": "markdown",
   "id": "203e5929",
   "metadata": {},
   "source": [
    "# Criar um pseudocodico para Bublesort"
   ]
  },
  {
   "cell_type": "markdown",
   "id": "7a2804d0",
   "metadata": {},
   "source": [
    "    Para i de 0 até tamanho do vetor - 1\n",
    "        Para j de 0 até tamanho do vetor - i - 2\n",
    "            Se vetor[j] > vetor[j + 1]\n",
    "                Trocar vetor[j] com vetor[j + 1]\n",
    "            FimSe\n",
    "        FimPara\n",
    "    FimPara"
   ]
  },
  {
   "cell_type": "code",
   "execution_count": null,
   "id": "6a715ad8",
   "metadata": {},
   "outputs": [
    {
     "name": "stdout",
     "output_type": "stream",
     "text": [
      "Vetor ordenado: [2, 3, 4, 4, 4, 4, 4, 4, 5, 5, 5, 6, 6, 6, 7, 9, 25, 33, 56, 57, 65, 89, 89, 89]\n"
     ]
    }
   ],
   "source": [
    "# Bubble Sort\n",
    "\n",
    "# Solicita ao usuário o vetor\n",
    "vetor = input(\"Digite os números separados por espaço: \").split()\n",
    "vetor = [int(x) for x in vetor]\n",
    "\n",
    "n = len(vetor)\n",
    "\n",
    "for i in range(n):\n",
    "    for j in range(n - i - 1):\n",
    "        if vetor[j] > vetor[j + 1]:\n",
    "            # Troca os elementos\n",
    "            vetor[j], vetor[j + 1] = vetor[j + 1], vetor[j]\n",
    "\n",
    "print(\"Vetor ordenado:\", vetor)"
   ]
  },
  {
   "cell_type": "markdown",
   "id": "73a60148",
   "metadata": {},
   "source": [
    "# FIM"
   ]
  },
  {
   "cell_type": "markdown",
   "id": "a59888e0",
   "metadata": {},
   "source": []
  }
 ],
 "metadata": {
  "kernelspec": {
   "display_name": "python-dsa",
   "language": "python",
   "name": "python3"
  },
  "language_info": {
   "codemirror_mode": {
    "name": "ipython",
    "version": 3
   },
   "file_extension": ".py",
   "mimetype": "text/x-python",
   "name": "python",
   "nbconvert_exporter": "python",
   "pygments_lexer": "ipython3",
   "version": "3.9.6"
  }
 },
 "nbformat": 4,
 "nbformat_minor": 5
}
