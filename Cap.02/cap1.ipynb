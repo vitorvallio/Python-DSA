{
 "cells": [
  {
   "cell_type": "markdown",
   "id": "8eff4d11",
   "metadata": {},
   "source": [
    "# Fazendo uma linsta de números entre 1 e 100, imprima os números pares que também são divisíveis por 4."
   ]
  },
  {
   "cell_type": "code",
   "execution_count": 38,
   "id": "53ffa80d",
   "metadata": {},
   "outputs": [
    {
     "name": "stdout",
     "output_type": "stream",
     "text": [
      "4\n",
      "8\n",
      "12\n",
      "16\n",
      "20\n",
      "24\n",
      "28\n",
      "32\n",
      "36\n",
      "40\n",
      "44\n",
      "48\n",
      "52\n",
      "56\n",
      "60\n",
      "64\n",
      "68\n",
      "72\n",
      "76\n",
      "80\n",
      "84\n",
      "88\n",
      "92\n",
      "96\n",
      "100\n"
     ]
    }
   ],
   "source": [
    "# Cria a lista de números no intervalo de 1 a 100\n",
    "numeros = list(range(1, 101))\n",
    "\n",
    "# Imprime os números pares que também são divisíveis por 4\n",
    "for numero in numeros:\n",
    "    if numero % 2 == 0 and numero % 4 == 0:\n",
    "        print(numero)"
   ]
  },
  {
   "cell_type": "markdown",
   "id": "7e5c29f9",
   "metadata": {},
   "source": [
    "# Cria a lista de números entre 1 e 100 em um list comprehension"
   ]
  },
  {
   "cell_type": "code",
   "execution_count": 39,
   "id": "090838b6",
   "metadata": {},
   "outputs": [
    {
     "name": "stdout",
     "output_type": "stream",
     "text": [
      "[4, 8, 12, 16, 20, 24, 28, 32, 36, 40, 44, 48, 52, 56, 60, 64, 68, 72, 76, 80, 84, 88, 92, 96, 100]\n"
     ]
    }
   ],
   "source": [
    "# Cria a lista de números entre 1 e 100\n",
    "numeros = list(range(1, 101))\n",
    "\n",
    "# Usa list comprehension para filtrar números pares divisíveis por 4\n",
    "pares_divisiveis_por_4 = [n for n in numeros if n % 2 == 0 and n % 4 == 0]\n",
    "\n",
    "# Imprime os números filtrados\n",
    "print(pares_divisiveis_por_4)"
   ]
  },
  {
   "cell_type": "markdown",
   "id": "65a12f90",
   "metadata": {},
   "source": [
    "# FIM"
   ]
  }
 ],
 "metadata": {
  "kernelspec": {
   "display_name": "python-dsa",
   "language": "python",
   "name": "python3"
  },
  "language_info": {
   "codemirror_mode": {
    "name": "ipython",
    "version": 3
   },
   "file_extension": ".py",
   "mimetype": "text/x-python",
   "name": "python",
   "nbconvert_exporter": "python",
   "pygments_lexer": "ipython3",
   "version": "3.9.6"
  }
 },
 "nbformat": 4,
 "nbformat_minor": 5
}
