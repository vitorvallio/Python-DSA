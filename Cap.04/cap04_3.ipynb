{
 "cells": [
  {
   "cell_type": "markdown",
   "id": "e8fb6fc0",
   "metadata": {},
   "source": [
    "# Capítulo 4 - Strings e Indexação"
   ]
  },
  {
   "cell_type": "code",
   "execution_count": 53,
   "id": "7e26060a",
   "metadata": {},
   "outputs": [
    {
     "name": "stdout",
     "output_type": "stream",
     "text": [
      "Versão do Python: 3.9.6\n"
     ]
    }
   ],
   "source": [
    "# Versão da linguagem Python\n",
    "from platform import python_version\n",
    "print(\"Versão do Python:\", python_version())"
   ]
  },
  {
   "cell_type": "markdown",
   "id": "162a24db",
   "metadata": {},
   "source": [
    "## Criando uma string\n",
    "\n",
    "Para criar uma string em Python, você pode usar aspas simples ou duplas. Por exemplo:"
   ]
  },
  {
   "cell_type": "code",
   "execution_count": 54,
   "id": "e6b1421c",
   "metadata": {},
   "outputs": [
    {
     "data": {
      "text/plain": [
       "'Oi'"
      ]
     },
     "execution_count": 54,
     "metadata": {},
     "output_type": "execute_result"
    }
   ],
   "source": [
    "# Uma única palavra\n",
    "'Oi'"
   ]
  },
  {
   "cell_type": "code",
   "execution_count": 55,
   "id": "67a469c0",
   "metadata": {},
   "outputs": [
    {
     "data": {
      "text/plain": [
       "'Criando uma string em Python'"
      ]
     },
     "execution_count": 55,
     "metadata": {},
     "output_type": "execute_result"
    }
   ],
   "source": [
    "# Uma frase\n",
    "'Criando uma string em Python'"
   ]
  },
  {
   "cell_type": "code",
   "execution_count": 56,
   "id": "7727f28f",
   "metadata": {},
   "outputs": [
    {
     "data": {
      "text/plain": [
       "'Podemos usar aspas duplas ou simplesm para strings em Python'"
      ]
     },
     "execution_count": 56,
     "metadata": {},
     "output_type": "execute_result"
    }
   ],
   "source": [
    "# Podemos usar aspas duplas\n",
    "\"Podemos usar aspas duplas ou simplesm para strings em Python\""
   ]
  },
  {
   "cell_type": "code",
   "execution_count": 57,
   "id": "cabd1975",
   "metadata": {},
   "outputs": [
    {
     "data": {
      "text/plain": [
       "\"Podemos usar 'aspas simples' dentro de aspas duplas\""
      ]
     },
     "execution_count": 57,
     "metadata": {},
     "output_type": "execute_result"
    }
   ],
   "source": [
    "# Voçe pode usar aspas simples dentro de aspas duplas\n",
    "\"Podemos usar 'aspas simples' dentro de aspas duplas\""
   ]
  },
  {
   "cell_type": "markdown",
   "id": "5a72e066",
   "metadata": {},
   "source": [
    "## Imprimindo uma String"
   ]
  },
  {
   "cell_type": "code",
   "execution_count": 58,
   "id": "735442ce",
   "metadata": {},
   "outputs": [
    {
     "name": "stdout",
     "output_type": "stream",
     "text": [
      "Testando String e Python\n"
     ]
    }
   ],
   "source": [
    "print('Testando String e Python')"
   ]
  },
  {
   "cell_type": "code",
   "execution_count": 59,
   "id": "66a70977",
   "metadata": {},
   "outputs": [
    {
     "name": "stdout",
     "output_type": "stream",
     "text": [
      "Testando \n",
      "String \n",
      "em \n",
      "Python\n"
     ]
    }
   ],
   "source": [
    "print('Testando \\nString \\nem \\nPython')"
   ]
  },
  {
   "cell_type": "code",
   "execution_count": 60,
   "id": "a7eb6d49",
   "metadata": {},
   "outputs": [
    {
     "name": "stdout",
     "output_type": "stream",
     "text": [
      "\n",
      "\n"
     ]
    }
   ],
   "source": [
    "print('\\n')"
   ]
  },
  {
   "cell_type": "markdown",
   "id": "8c718440",
   "metadata": {},
   "source": [
    "## Indexando sting"
   ]
  },
  {
   "cell_type": "code",
   "execution_count": 61,
   "id": "d2c03db9",
   "metadata": {},
   "outputs": [],
   "source": [
    "# Atribuindo uma sting\n",
    "s = 'Data Science é top de mais'"
   ]
  },
  {
   "cell_type": "code",
   "execution_count": 62,
   "id": "088315df",
   "metadata": {},
   "outputs": [
    {
     "name": "stdout",
     "output_type": "stream",
     "text": [
      "Data Science é top de mais\n"
     ]
    }
   ],
   "source": [
    "print(s)"
   ]
  },
  {
   "cell_type": "markdown",
   "id": "1cc39ce1",
   "metadata": {},
   "source": [
    "    > Indexação em Python começa por 0, então o primeiro caractere de uma string está no índice 0, o segundo no índice 1, e assim por diante."
   ]
  },
  {
   "cell_type": "code",
   "execution_count": 63,
   "id": "8b6a6fbb",
   "metadata": {},
   "outputs": [
    {
     "data": {
      "text/plain": [
       "'D'"
      ]
     },
     "execution_count": 63,
     "metadata": {},
     "output_type": "execute_result"
    }
   ],
   "source": [
    "# Primeiro elemento da string\n",
    "s[0]"
   ]
  },
  {
   "cell_type": "code",
   "execution_count": 64,
   "id": "d423e18a",
   "metadata": {},
   "outputs": [
    {
     "data": {
      "text/plain": [
       "'a'"
      ]
     },
     "execution_count": 64,
     "metadata": {},
     "output_type": "execute_result"
    }
   ],
   "source": [
    "s[1]"
   ]
  },
  {
   "cell_type": "code",
   "execution_count": 65,
   "id": "11baa90b",
   "metadata": {},
   "outputs": [
    {
     "data": {
      "text/plain": [
       "'t'"
      ]
     },
     "execution_count": 65,
     "metadata": {},
     "output_type": "execute_result"
    }
   ],
   "source": [
    "s[2]"
   ]
  },
  {
   "cell_type": "code",
   "execution_count": 66,
   "id": "60e189d9",
   "metadata": {},
   "outputs": [
    {
     "data": {
      "text/plain": [
       "'a'"
      ]
     },
     "execution_count": 66,
     "metadata": {},
     "output_type": "execute_result"
    }
   ],
   "source": [
    "s[3]"
   ]
  },
  {
   "cell_type": "code",
   "execution_count": 67,
   "id": "e96c73d7",
   "metadata": {},
   "outputs": [
    {
     "data": {
      "text/plain": [
       "' '"
      ]
     },
     "execution_count": 67,
     "metadata": {},
     "output_type": "execute_result"
    }
   ],
   "source": [
    "s[4]"
   ]
  },
  {
   "cell_type": "code",
   "execution_count": 68,
   "id": "7cf10d3a",
   "metadata": {},
   "outputs": [
    {
     "data": {
      "text/plain": [
       "'S'"
      ]
     },
     "execution_count": 68,
     "metadata": {},
     "output_type": "execute_result"
    }
   ],
   "source": [
    "s[5]"
   ]
  },
  {
   "cell_type": "markdown",
   "id": "cf7149cf",
   "metadata": {},
   "source": [
    "    > Podemos usar um : para executar um slicing que faz a leitura de tudo até um ponto designado. por exemplo:\n"
   ]
  },
  {
   "cell_type": "code",
   "execution_count": 69,
   "id": "89711176",
   "metadata": {},
   "outputs": [
    {
     "data": {
      "text/plain": [
       "'ata Science é top de mais'"
      ]
     },
     "execution_count": 69,
     "metadata": {},
     "output_type": "execute_result"
    }
   ],
   "source": [
    "# Retorna todos os elemetos da strinh, começando pela posição\n",
    "# (lembre-se qie Python começa a indexação pela posição 0),\n",
    "# até o fim da string\n",
    "s[1:]"
   ]
  },
  {
   "cell_type": "code",
   "execution_count": 70,
   "id": "81837b92",
   "metadata": {},
   "outputs": [
    {
     "data": {
      "text/plain": [
       "'Data Science é top de mais'"
      ]
     },
     "execution_count": 70,
     "metadata": {},
     "output_type": "execute_result"
    }
   ],
   "source": [
    "# A string original permanece inalterada\n",
    "s"
   ]
  },
  {
   "cell_type": "code",
   "execution_count": 71,
   "id": "c625f119",
   "metadata": {},
   "outputs": [
    {
     "data": {
      "text/plain": [
       "'Data'"
      ]
     },
     "execution_count": 71,
     "metadata": {},
     "output_type": "execute_result"
    }
   ],
   "source": [
    "# Retorna tudo até a posição 4\n",
    "s[:4]"
   ]
  },
  {
   "cell_type": "code",
   "execution_count": 72,
   "id": "074b1eb9",
   "metadata": {},
   "outputs": [
    {
     "data": {
      "text/plain": [
       "'s'"
      ]
     },
     "execution_count": 72,
     "metadata": {},
     "output_type": "execute_result"
    }
   ],
   "source": [
    "# Nós também podem usar a indexação negativa a ler de trás para frente\n",
    "s[-1] "
   ]
  },
  {
   "cell_type": "code",
   "execution_count": 73,
   "id": "bfe31ab5",
   "metadata": {},
   "outputs": [
    {
     "data": {
      "text/plain": [
       "'Data Science é top de mai'"
      ]
     },
     "execution_count": 73,
     "metadata": {},
     "output_type": "execute_result"
    }
   ],
   "source": [
    "# Retorna tudo, exceto a última letra\n",
    "s[:-1]"
   ]
  },
  {
   "cell_type": "markdown",
   "id": "97e0f6e0",
   "metadata": {},
   "source": [
    "    > Nós também podemos usar a notação de índice e fatiar a strinh em pedaços específicos (o padrão é 1)\n",
    "\n",
    "    > Por exemplo, podemos usar dois pontos duas vezes em uma linha e, em seguida, um níumero que especifica a frequência para retornar elementos."
   ]
  },
  {
   "cell_type": "code",
   "execution_count": 74,
   "id": "b97d9586",
   "metadata": {},
   "outputs": [
    {
     "data": {
      "text/plain": [
       "'Data Science é top de mais'"
      ]
     },
     "execution_count": 74,
     "metadata": {},
     "output_type": "execute_result"
    }
   ],
   "source": [
    "s[::1]"
   ]
  },
  {
   "cell_type": "code",
   "execution_count": 75,
   "id": "6089a5c9",
   "metadata": {},
   "outputs": [
    {
     "data": {
      "text/plain": [
       "'Dt cec  o emi'"
      ]
     },
     "execution_count": 75,
     "metadata": {},
     "output_type": "execute_result"
    }
   ],
   "source": [
    "s[::2]"
   ]
  },
  {
   "cell_type": "code",
   "execution_count": 76,
   "id": "af089f17",
   "metadata": {},
   "outputs": [
    {
     "data": {
      "text/plain": [
       "'siam ed pot é ecneicS ataD'"
      ]
     },
     "execution_count": 76,
     "metadata": {},
     "output_type": "execute_result"
    }
   ],
   "source": [
    "s[::-1]"
   ]
  },
  {
   "cell_type": "markdown",
   "id": "956dc0c5",
   "metadata": {},
   "source": [
    "## Propriedades de strings"
   ]
  },
  {
   "cell_type": "code",
   "execution_count": 77,
   "id": "dad4dbe1",
   "metadata": {},
   "outputs": [
    {
     "data": {
      "text/plain": [
       "'Data Science é top de mais'"
      ]
     },
     "execution_count": 77,
     "metadata": {},
     "output_type": "execute_result"
    }
   ],
   "source": [
    "s"
   ]
  },
  {
   "cell_type": "code",
   "execution_count": 78,
   "id": "d64606ba",
   "metadata": {},
   "outputs": [],
   "source": [
    "# Alterando um caracter (não é possivel alterar um elemento de uma string)\n",
    "# s[0] = 'x'"
   ]
  },
  {
   "cell_type": "code",
   "execution_count": 79,
   "id": "3f1eb9fd",
   "metadata": {},
   "outputs": [
    {
     "data": {
      "text/plain": [
       "'Data Science é top de mais e Python é muito legal'"
      ]
     },
     "execution_count": 79,
     "metadata": {},
     "output_type": "execute_result"
    }
   ],
   "source": [
    "# Concatenando strinh\n",
    "s + ' e Python é muito legal'"
   ]
  },
  {
   "cell_type": "code",
   "execution_count": 80,
   "id": "f2a39d83",
   "metadata": {},
   "outputs": [],
   "source": [
    "s = s + ' e Python é muito legal'"
   ]
  },
  {
   "cell_type": "code",
   "execution_count": 81,
   "id": "1af1f49a",
   "metadata": {},
   "outputs": [
    {
     "name": "stdout",
     "output_type": "stream",
     "text": [
      "Data Science é top de mais e Python é muito legal\n"
     ]
    }
   ],
   "source": [
    "print(s)"
   ]
  },
  {
   "cell_type": "code",
   "execution_count": 82,
   "id": "9d293b67",
   "metadata": {},
   "outputs": [],
   "source": [
    "# podemos usarr o símbilo de multiplicação para criar repetição!\n",
    "letra = 'w'"
   ]
  },
  {
   "cell_type": "code",
   "execution_count": 83,
   "id": "1c920cb5",
   "metadata": {},
   "outputs": [
    {
     "data": {
      "text/plain": [
       "'www'"
      ]
     },
     "execution_count": 83,
     "metadata": {},
     "output_type": "execute_result"
    }
   ],
   "source": [
    "letra * 3"
   ]
  },
  {
   "cell_type": "markdown",
   "id": "f632e9e6",
   "metadata": {},
   "source": [
    "## Função Built-in de String"
   ]
  },
  {
   "cell_type": "code",
   "execution_count": 84,
   "id": "56c95f1c",
   "metadata": {},
   "outputs": [
    {
     "data": {
      "text/plain": [
       "'Data Science é top de mais e Python é muito legal'"
      ]
     },
     "execution_count": 84,
     "metadata": {},
     "output_type": "execute_result"
    }
   ],
   "source": [
    "s"
   ]
  },
  {
   "cell_type": "code",
   "execution_count": 85,
   "id": "077f6216",
   "metadata": {},
   "outputs": [
    {
     "data": {
      "text/plain": [
       "'DATA SCIENCE É TOP DE MAIS E PYTHON É MUITO LEGAL'"
      ]
     },
     "execution_count": 85,
     "metadata": {},
     "output_type": "execute_result"
    }
   ],
   "source": [
    "# Upper Case\n",
    "s.upper()"
   ]
  },
  {
   "cell_type": "code",
   "execution_count": 86,
   "id": "35058e8f",
   "metadata": {},
   "outputs": [
    {
     "data": {
      "text/plain": [
       "'data science é top de mais e python é muito legal'"
      ]
     },
     "execution_count": 86,
     "metadata": {},
     "output_type": "execute_result"
    }
   ],
   "source": [
    "# Lower Case\n",
    "s.lower()"
   ]
  },
  {
   "cell_type": "code",
   "execution_count": 87,
   "id": "505b075d",
   "metadata": {},
   "outputs": [
    {
     "data": {
      "text/plain": [
       "['Data',\n",
       " 'Science',\n",
       " 'é',\n",
       " 'top',\n",
       " 'de',\n",
       " 'mais',\n",
       " 'e',\n",
       " 'Python',\n",
       " 'é',\n",
       " 'muito',\n",
       " 'legal']"
      ]
     },
     "execution_count": 87,
     "metadata": {},
     "output_type": "execute_result"
    }
   ],
   "source": [
    "# Dividir uma string por espaços em branco (padrão)\n",
    "s.split()"
   ]
  },
  {
   "cell_type": "code",
   "execution_count": 88,
   "id": "0ad6809d",
   "metadata": {},
   "outputs": [
    {
     "data": {
      "text/plain": [
       "['Data Science é top de mais e P', 'thon é muito legal']"
      ]
     },
     "execution_count": 88,
     "metadata": {},
     "output_type": "execute_result"
    }
   ],
   "source": [
    "# Dividir uma string por um elemento específico\n",
    "s.split('y')"
   ]
  },
  {
   "cell_type": "markdown",
   "id": "b2319bc5",
   "metadata": {},
   "source": [
    "## Funções String"
   ]
  },
  {
   "cell_type": "code",
   "execution_count": 89,
   "id": "eb10a9ce",
   "metadata": {},
   "outputs": [],
   "source": [
    "s = 'seja bem vindo ao universo da Linguagem Python!'"
   ]
  },
  {
   "cell_type": "code",
   "execution_count": 90,
   "id": "45c02d93",
   "metadata": {},
   "outputs": [
    {
     "data": {
      "text/plain": [
       "'Seja bem vindo ao universo da linguagem python!'"
      ]
     },
     "execution_count": 90,
     "metadata": {},
     "output_type": "execute_result"
    }
   ],
   "source": [
    "s.capitalize()  # Primeira letra maiúscula"
   ]
  },
  {
   "cell_type": "code",
   "execution_count": 91,
   "id": "2840541c",
   "metadata": {},
   "outputs": [
    {
     "data": {
      "text/plain": [
       "4"
      ]
     },
     "execution_count": 91,
     "metadata": {},
     "output_type": "execute_result"
    }
   ],
   "source": [
    "s.count('a')"
   ]
  },
  {
   "cell_type": "code",
   "execution_count": 92,
   "id": "4a7ae97c",
   "metadata": {},
   "outputs": [
    {
     "data": {
      "text/plain": [
       "False"
      ]
     },
     "execution_count": 92,
     "metadata": {},
     "output_type": "execute_result"
    }
   ],
   "source": [
    "s.isalnum()  # Verifica se a string é alfanumérica"
   ]
  },
  {
   "cell_type": "code",
   "execution_count": 93,
   "id": "b57ea356",
   "metadata": {},
   "outputs": [
    {
     "data": {
      "text/plain": [
       "False"
      ]
     },
     "execution_count": 93,
     "metadata": {},
     "output_type": "execute_result"
    }
   ],
   "source": [
    "s.islower()  # Verifica se a string está em minúsculas"
   ]
  },
  {
   "cell_type": "code",
   "execution_count": 94,
   "id": "f0bf59f0",
   "metadata": {},
   "outputs": [
    {
     "data": {
      "text/plain": [
       "False"
      ]
     },
     "execution_count": 94,
     "metadata": {},
     "output_type": "execute_result"
    }
   ],
   "source": [
    "s.isspace()  # Verifica se a string contém apenas espaços em branco"
   ]
  },
  {
   "cell_type": "code",
   "execution_count": 95,
   "id": "79822a04",
   "metadata": {},
   "outputs": [
    {
     "data": {
      "text/plain": [
       "True"
      ]
     },
     "execution_count": 95,
     "metadata": {},
     "output_type": "execute_result"
    }
   ],
   "source": [
    "s.endswith('Python!')  # Verifica se a string termina com 'Python!'"
   ]
  },
  {
   "cell_type": "markdown",
   "id": "3f8b5134",
   "metadata": {},
   "source": [
    "## Comparando strings"
   ]
  },
  {
   "cell_type": "code",
   "execution_count": 96,
   "id": "978d4961",
   "metadata": {},
   "outputs": [
    {
     "name": "stdout",
     "output_type": "stream",
     "text": [
      "False\n"
     ]
    }
   ],
   "source": [
    "print(\"Python\" == \"R\")"
   ]
  },
  {
   "cell_type": "code",
   "execution_count": 97,
   "id": "8b5b2acf",
   "metadata": {},
   "outputs": [
    {
     "name": "stdout",
     "output_type": "stream",
     "text": [
      "True\n"
     ]
    }
   ],
   "source": [
    "print(\"Python\" == \"Python\")  # Comparando strings"
   ]
  },
  {
   "cell_type": "markdown",
   "id": "84315ff2",
   "metadata": {},
   "source": [
    "# FIM"
   ]
  },
  {
   "cell_type": "markdown",
   "id": "1999a0b1",
   "metadata": {},
   "source": []
  }
 ],
 "metadata": {
  "kernelspec": {
   "display_name": "python-dsa",
   "language": "python",
   "name": "python3"
  },
  "language_info": {
   "codemirror_mode": {
    "name": "ipython",
    "version": 3
   },
   "file_extension": ".py",
   "mimetype": "text/x-python",
   "name": "python",
   "nbconvert_exporter": "python",
   "pygments_lexer": "ipython3",
   "version": "3.9.6"
  }
 },
 "nbformat": 4,
 "nbformat_minor": 5
}
