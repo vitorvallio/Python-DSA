{
 "cells": [
  {
   "cell_type": "markdown",
   "id": "4d085434",
   "metadata": {},
   "source": [
    "# Capítulo 4 - Estruturas de Dados (Dicionários)"
   ]
  },
  {
   "cell_type": "code",
   "execution_count": 29,
   "id": "23308356",
   "metadata": {},
   "outputs": [],
   "source": [
    "estudantes_lst = [\"Pedro\", 24, \"Ana\", 22, \"Ronaldo\", 26, \"Janaina\", 25] # Lista de estudantes"
   ]
  },
  {
   "cell_type": "code",
   "execution_count": 30,
   "id": "ae529f54",
   "metadata": {},
   "outputs": [
    {
     "data": {
      "text/plain": [
       "['Pedro', 24, 'Ana', 22, 'Ronaldo', 26, 'Janaina', 25]"
      ]
     },
     "execution_count": 30,
     "metadata": {},
     "output_type": "execute_result"
    }
   ],
   "source": [
    "estudantes_lst"
   ]
  },
  {
   "cell_type": "code",
   "execution_count": 31,
   "id": "598dce40",
   "metadata": {},
   "outputs": [],
   "source": [
    "estudantes_dict = {\"Pedro\":24, \"Ana\":22, \"Ronaldo\":26, \"Janaina\":25}"
   ]
  },
  {
   "cell_type": "code",
   "execution_count": 32,
   "id": "2d932957",
   "metadata": {},
   "outputs": [
    {
     "data": {
      "text/plain": [
       "{'Pedro': 24, 'Ana': 22, 'Ronaldo': 26, 'Janaina': 25}"
      ]
     },
     "execution_count": 32,
     "metadata": {},
     "output_type": "execute_result"
    }
   ],
   "source": [
    "estudantes_dict"
   ]
  },
  {
   "cell_type": "code",
   "execution_count": 33,
   "id": "8d0e2f39",
   "metadata": {},
   "outputs": [
    {
     "data": {
      "text/plain": [
       "24"
      ]
     },
     "execution_count": 33,
     "metadata": {},
     "output_type": "execute_result"
    }
   ],
   "source": [
    "estudantes_dict[\"Pedro\"]  # Acessando o valor associado à chave \"Pedro\""
   ]
  },
  {
   "cell_type": "code",
   "execution_count": 34,
   "id": "e7d8377b",
   "metadata": {},
   "outputs": [],
   "source": [
    "estudantes_dict[\"Marcelo\"] = 23  # Adicionando um novo par chave-valor"
   ]
  },
  {
   "cell_type": "code",
   "execution_count": 35,
   "id": "b0ff423f",
   "metadata": {},
   "outputs": [
    {
     "data": {
      "text/plain": [
       "23"
      ]
     },
     "execution_count": 35,
     "metadata": {},
     "output_type": "execute_result"
    }
   ],
   "source": [
    "estudantes_dict[\"Marcelo\"]"
   ]
  },
  {
   "cell_type": "code",
   "execution_count": 36,
   "id": "485a41cb",
   "metadata": {},
   "outputs": [],
   "source": [
    "estudantes_dict.clear()  # Limpando o dicionário"
   ]
  },
  {
   "cell_type": "code",
   "execution_count": 37,
   "id": "c513bf58",
   "metadata": {},
   "outputs": [],
   "source": [
    "del estudantes_dict"
   ]
  },
  {
   "cell_type": "code",
   "execution_count": 38,
   "id": "49fea9a1",
   "metadata": {},
   "outputs": [],
   "source": [
    "# estudantes_dict"
   ]
  },
  {
   "cell_type": "code",
   "execution_count": 39,
   "id": "8ebf9faf",
   "metadata": {},
   "outputs": [],
   "source": [
    "estudantes = {\"Pedro\":24, \"Ana\":22, \"Ronaldo\":26, \"Janaina\":25}"
   ]
  },
  {
   "cell_type": "code",
   "execution_count": 40,
   "id": "632be2e6",
   "metadata": {},
   "outputs": [
    {
     "data": {
      "text/plain": [
       "{'Pedro': 24, 'Ana': 22, 'Ronaldo': 26, 'Janaina': 25}"
      ]
     },
     "execution_count": 40,
     "metadata": {},
     "output_type": "execute_result"
    }
   ],
   "source": [
    "estudantes"
   ]
  },
  {
   "cell_type": "code",
   "execution_count": 41,
   "id": "35ee2c72",
   "metadata": {},
   "outputs": [
    {
     "data": {
      "text/plain": [
       "4"
      ]
     },
     "execution_count": 41,
     "metadata": {},
     "output_type": "execute_result"
    }
   ],
   "source": [
    "len(estudantes)  # Verificando o tamanho do dicionário"
   ]
  },
  {
   "cell_type": "code",
   "execution_count": 42,
   "id": "f17e3140",
   "metadata": {},
   "outputs": [
    {
     "data": {
      "text/plain": [
       "dict_keys(['Pedro', 'Ana', 'Ronaldo', 'Janaina'])"
      ]
     },
     "execution_count": 42,
     "metadata": {},
     "output_type": "execute_result"
    }
   ],
   "source": [
    "estudantes.keys()  # Obtendo as chaves do dicionário"
   ]
  },
  {
   "cell_type": "code",
   "execution_count": 43,
   "id": "4db8a8a2",
   "metadata": {},
   "outputs": [
    {
     "data": {
      "text/plain": [
       "dict_values([24, 22, 26, 25])"
      ]
     },
     "execution_count": 43,
     "metadata": {},
     "output_type": "execute_result"
    }
   ],
   "source": [
    "estudantes.values()  # Obtendo os valores do dicionário"
   ]
  },
  {
   "cell_type": "code",
   "execution_count": 44,
   "id": "24ee91a1",
   "metadata": {},
   "outputs": [
    {
     "data": {
      "text/plain": [
       "dict_items([('Pedro', 24), ('Ana', 22), ('Ronaldo', 26), ('Janaina', 25)])"
      ]
     },
     "execution_count": 44,
     "metadata": {},
     "output_type": "execute_result"
    }
   ],
   "source": [
    "estudantes.items()  # Obtendo os pares chave-valor do dicionário"
   ]
  },
  {
   "cell_type": "code",
   "execution_count": 45,
   "id": "6613901a",
   "metadata": {},
   "outputs": [],
   "source": [
    "estudantes2 = {\"Camila\":2273, \"Adriana\":28, \"Robertaaldo\":26}"
   ]
  },
  {
   "cell_type": "code",
   "execution_count": 46,
   "id": "dede65e6",
   "metadata": {},
   "outputs": [
    {
     "data": {
      "text/plain": [
       "{'Camila': 2273, 'Adriana': 28, 'Robertaaldo': 26}"
      ]
     },
     "execution_count": 46,
     "metadata": {},
     "output_type": "execute_result"
    }
   ],
   "source": [
    "estudantes2"
   ]
  },
  {
   "cell_type": "code",
   "execution_count": 47,
   "id": "daa32e84",
   "metadata": {},
   "outputs": [],
   "source": [
    "estudantes.update(estudantes2)  # Atualizando o dicionário com outro dicionário"
   ]
  },
  {
   "cell_type": "code",
   "execution_count": 48,
   "id": "648cb337",
   "metadata": {},
   "outputs": [
    {
     "data": {
      "text/plain": [
       "{'Pedro': 24,\n",
       " 'Ana': 22,\n",
       " 'Ronaldo': 26,\n",
       " 'Janaina': 25,\n",
       " 'Camila': 2273,\n",
       " 'Adriana': 28,\n",
       " 'Robertaaldo': 26}"
      ]
     },
     "execution_count": 48,
     "metadata": {},
     "output_type": "execute_result"
    }
   ],
   "source": [
    "estudantes"
   ]
  },
  {
   "cell_type": "code",
   "execution_count": 49,
   "id": "7d7e2714",
   "metadata": {},
   "outputs": [],
   "source": [
    "dic1 = {}"
   ]
  },
  {
   "cell_type": "code",
   "execution_count": 50,
   "id": "3e00d083",
   "metadata": {},
   "outputs": [
    {
     "data": {
      "text/plain": [
       "{}"
      ]
     },
     "execution_count": 50,
     "metadata": {},
     "output_type": "execute_result"
    }
   ],
   "source": [
    "dic1"
   ]
  },
  {
   "cell_type": "code",
   "execution_count": 51,
   "id": "96a4df43",
   "metadata": {},
   "outputs": [],
   "source": [
    "dic1[\"chave_um\"] = 2"
   ]
  },
  {
   "cell_type": "code",
   "execution_count": 52,
   "id": "3d8a33c6",
   "metadata": {},
   "outputs": [
    {
     "name": "stdout",
     "output_type": "stream",
     "text": [
      "{'chave_um': 2}\n"
     ]
    }
   ],
   "source": [
    "print(dic1)"
   ]
  },
  {
   "cell_type": "code",
   "execution_count": 53,
   "id": "712df13d",
   "metadata": {},
   "outputs": [],
   "source": [
    "dic1[10] = 5"
   ]
  },
  {
   "cell_type": "code",
   "execution_count": 54,
   "id": "1cbd0ca9",
   "metadata": {},
   "outputs": [
    {
     "data": {
      "text/plain": [
       "{'chave_um': 2, 10: 5}"
      ]
     },
     "execution_count": 54,
     "metadata": {},
     "output_type": "execute_result"
    }
   ],
   "source": [
    "dic1"
   ]
  },
  {
   "cell_type": "code",
   "execution_count": 55,
   "id": "798e0cc2",
   "metadata": {},
   "outputs": [],
   "source": [
    "dic1[9.13] = \"Python\""
   ]
  },
  {
   "cell_type": "code",
   "execution_count": 56,
   "id": "81e259de",
   "metadata": {},
   "outputs": [
    {
     "data": {
      "text/plain": [
       "{'chave_um': 2, 10: 5, 9.13: 'Python'}"
      ]
     },
     "execution_count": 56,
     "metadata": {},
     "output_type": "execute_result"
    }
   ],
   "source": [
    "dic1"
   ]
  },
  {
   "cell_type": "code",
   "execution_count": 57,
   "id": "ed82f9f2",
   "metadata": {},
   "outputs": [],
   "source": [
    "dic1[\"teste\"] = 5"
   ]
  },
  {
   "cell_type": "code",
   "execution_count": 58,
   "id": "4062652f",
   "metadata": {},
   "outputs": [
    {
     "data": {
      "text/plain": [
       "{'chave_um': 2, 10: 5, 9.13: 'Python', 'teste': 5}"
      ]
     },
     "execution_count": 58,
     "metadata": {},
     "output_type": "execute_result"
    }
   ],
   "source": [
    "dic1"
   ]
  },
  {
   "cell_type": "code",
   "execution_count": 59,
   "id": "c47ab13d",
   "metadata": {},
   "outputs": [],
   "source": [
    "dic1 = {}"
   ]
  },
  {
   "cell_type": "code",
   "execution_count": 60,
   "id": "e6f4c55e",
   "metadata": {},
   "outputs": [],
   "source": [
    "dic1[\"teste\"] = 10"
   ]
  },
  {
   "cell_type": "code",
   "execution_count": 62,
   "id": "6280e858",
   "metadata": {},
   "outputs": [],
   "source": [
    "dic1[\"key\"] = \"teste\""
   ]
  },
  {
   "cell_type": "code",
   "execution_count": 64,
   "id": "7f078b31",
   "metadata": {},
   "outputs": [
    {
     "data": {
      "text/plain": [
       "{'teste': 10, 'key': 'teste'}"
      ]
     },
     "execution_count": 64,
     "metadata": {},
     "output_type": "execute_result"
    }
   ],
   "source": [
    "dic1"
   ]
  },
  {
   "cell_type": "code",
   "execution_count": 65,
   "id": "b5b782aa",
   "metadata": {},
   "outputs": [],
   "source": [
    "dic2 = {}"
   ]
  },
  {
   "cell_type": "code",
   "execution_count": 68,
   "id": "ca8e4a9e",
   "metadata": {},
   "outputs": [],
   "source": [
    "dic2[\"key1\"] = \"Data Science\"\n",
    "dic2[\"key2\"] = 10\n",
    "dic2[\"key3\"] = 100"
   ]
  },
  {
   "cell_type": "code",
   "execution_count": 70,
   "id": "443052c0",
   "metadata": {},
   "outputs": [
    {
     "data": {
      "text/plain": [
       "{'key1': 'Data Science', 'key2': 10, 'key3': 100}"
      ]
     },
     "execution_count": 70,
     "metadata": {},
     "output_type": "execute_result"
    }
   ],
   "source": [
    "dic2"
   ]
  },
  {
   "cell_type": "code",
   "execution_count": 72,
   "id": "2152fa14",
   "metadata": {},
   "outputs": [],
   "source": [
    "a = dic2[\"key1\"]"
   ]
  },
  {
   "cell_type": "code",
   "execution_count": 73,
   "id": "a3413b49",
   "metadata": {},
   "outputs": [],
   "source": [
    "b = dic2[\"key2\"]"
   ]
  },
  {
   "cell_type": "code",
   "execution_count": 74,
   "id": "ac523b88",
   "metadata": {},
   "outputs": [],
   "source": [
    "c = dic2[\"key3\"]"
   ]
  },
  {
   "cell_type": "code",
   "execution_count": 75,
   "id": "81eb60e0",
   "metadata": {},
   "outputs": [
    {
     "data": {
      "text/plain": [
       "('Data Science', 10, 100)"
      ]
     },
     "execution_count": 75,
     "metadata": {},
     "output_type": "execute_result"
    }
   ],
   "source": [
    "a, b, c"
   ]
  },
  {
   "cell_type": "code",
   "execution_count": 76,
   "id": "fddf2c5f",
   "metadata": {},
   "outputs": [],
   "source": [
    "dic3 = {'chave1':1230, 'chave2':[22,453,73.4], 'chave3':['Picanha', 'fraldinha', 'alcatra']}"
   ]
  },
  {
   "cell_type": "code",
   "execution_count": 77,
   "id": "d7b5fd3e",
   "metadata": {},
   "outputs": [
    {
     "data": {
      "text/plain": [
       "{'chave1': 1230,\n",
       " 'chave2': [22, 453, 73.4],\n",
       " 'chave3': ['Picanha', 'fraldinha', 'alcatra']}"
      ]
     },
     "execution_count": 77,
     "metadata": {},
     "output_type": "execute_result"
    }
   ],
   "source": [
    "dic3"
   ]
  },
  {
   "cell_type": "code",
   "execution_count": 79,
   "id": "3b8f2298",
   "metadata": {},
   "outputs": [
    {
     "data": {
      "text/plain": [
       "[22, 453, 73.4]"
      ]
     },
     "execution_count": 79,
     "metadata": {},
     "output_type": "execute_result"
    }
   ],
   "source": [
    "dic3['chave2']"
   ]
  },
  {
   "cell_type": "code",
   "execution_count": 80,
   "id": "8e3ca066",
   "metadata": {},
   "outputs": [
    {
     "data": {
      "text/plain": [
       "'PICANHA'"
      ]
     },
     "execution_count": 80,
     "metadata": {},
     "output_type": "execute_result"
    }
   ],
   "source": [
    "dic3['chave3'][0].upper()  # Acessando o primeiro elemento da lista na chave 'chave3' e convertendo para maiúsculas"
   ]
  },
  {
   "cell_type": "code",
   "execution_count": 81,
   "id": "65ce2dba",
   "metadata": {},
   "outputs": [],
   "source": [
    "var1 = dic3['chave2'][0] - 2"
   ]
  },
  {
   "cell_type": "code",
   "execution_count": 82,
   "id": "1cf255fd",
   "metadata": {},
   "outputs": [
    {
     "data": {
      "text/plain": [
       "20"
      ]
     },
     "execution_count": 82,
     "metadata": {},
     "output_type": "execute_result"
    }
   ],
   "source": [
    "var1"
   ]
  },
  {
   "cell_type": "code",
   "execution_count": 83,
   "id": "b204b975",
   "metadata": {},
   "outputs": [],
   "source": [
    "dic3['chave2'][0] -=2"
   ]
  },
  {
   "cell_type": "code",
   "execution_count": 84,
   "id": "7ccd9cc9",
   "metadata": {},
   "outputs": [
    {
     "data": {
      "text/plain": [
       "{'chave1': 1230,\n",
       " 'chave2': [20, 453, 73.4],\n",
       " 'chave3': ['Picanha', 'fraldinha', 'alcatra']}"
      ]
     },
     "execution_count": 84,
     "metadata": {},
     "output_type": "execute_result"
    }
   ],
   "source": [
    "dic3"
   ]
  },
  {
   "cell_type": "markdown",
   "id": "be975e5f",
   "metadata": {},
   "source": [
    "## Criando Dicionário Aninhados"
   ]
  },
  {
   "cell_type": "code",
   "execution_count": 87,
   "id": "49a8068b",
   "metadata": {},
   "outputs": [],
   "source": [
    "dict_aninhado = {'key1':{'key2_aninhado':{'key3_aninhado':'Dict aninhado em Python'}}}"
   ]
  },
  {
   "cell_type": "code",
   "execution_count": 88,
   "id": "b8482e41",
   "metadata": {},
   "outputs": [
    {
     "data": {
      "text/plain": [
       "{'key1': {'key2_aninhado': {'key3_aninhado': 'Dict aninhado em Python'}}}"
      ]
     },
     "execution_count": 88,
     "metadata": {},
     "output_type": "execute_result"
    }
   ],
   "source": [
    "dict_aninhado"
   ]
  },
  {
   "cell_type": "code",
   "execution_count": 89,
   "id": "ce045c55",
   "metadata": {},
   "outputs": [
    {
     "data": {
      "text/plain": [
       "'Dict aninhado em Python'"
      ]
     },
     "execution_count": 89,
     "metadata": {},
     "output_type": "execute_result"
    }
   ],
   "source": [
    "dict_aninhado['key1']['key2_aninhado']['key3_aninhado']  # Acessando o valor do dicionário aninhado"
   ]
  },
  {
   "cell_type": "markdown",
   "id": "d5ce3d4c",
   "metadata": {},
   "source": [
    "# FIM"
   ]
  }
 ],
 "metadata": {
  "kernelspec": {
   "display_name": "python-dsa",
   "language": "python",
   "name": "python3"
  },
  "language_info": {
   "codemirror_mode": {
    "name": "ipython",
    "version": 3
   },
   "file_extension": ".py",
   "mimetype": "text/x-python",
   "name": "python",
   "nbconvert_exporter": "python",
   "pygments_lexer": "ipython3",
   "version": "3.9.6"
  }
 },
 "nbformat": 4,
 "nbformat_minor": 5
}
