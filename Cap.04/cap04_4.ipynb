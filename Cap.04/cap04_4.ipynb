{
 "cells": [
  {
   "cell_type": "markdown",
   "id": "f9d875ad",
   "metadata": {},
   "source": [
    "# Capítulo 4 - Estruturas de Dados (Listas)"
   ]
  },
  {
   "cell_type": "markdown",
   "id": "d2030dda",
   "metadata": {},
   "source": [
    "## Trabalho com Listas"
   ]
  },
  {
   "cell_type": "code",
   "execution_count": 180,
   "id": "594dc9e7",
   "metadata": {},
   "outputs": [],
   "source": [
    "# Criando uma lista\n",
    "lista_1 = [\"arroz, frango, tomate, leite\"]"
   ]
  },
  {
   "cell_type": "code",
   "execution_count": 181,
   "id": "57513333",
   "metadata": {},
   "outputs": [
    {
     "data": {
      "text/plain": [
       "list"
      ]
     },
     "execution_count": 181,
     "metadata": {},
     "output_type": "execute_result"
    }
   ],
   "source": [
    "type(lista_1)  # Verificando o tipo da lista"
   ]
  },
  {
   "cell_type": "code",
   "execution_count": 182,
   "id": "915047bc",
   "metadata": {},
   "outputs": [
    {
     "name": "stdout",
     "output_type": "stream",
     "text": [
      "['arroz, frango, tomate, leite']\n"
     ]
    }
   ],
   "source": [
    "print(lista_1)  # Imprimindo a lista"
   ]
  },
  {
   "cell_type": "code",
   "execution_count": 183,
   "id": "8c89317f",
   "metadata": {},
   "outputs": [],
   "source": [
    "lista_2 = [\"arroz\", \"frango\", \"tomate\", \"leite\"]"
   ]
  },
  {
   "cell_type": "code",
   "execution_count": 184,
   "id": "661e0221",
   "metadata": {},
   "outputs": [
    {
     "data": {
      "text/plain": [
       "list"
      ]
     },
     "execution_count": 184,
     "metadata": {},
     "output_type": "execute_result"
    }
   ],
   "source": [
    "type(lista_2)"
   ]
  },
  {
   "cell_type": "code",
   "execution_count": 185,
   "id": "51eec4d7",
   "metadata": {},
   "outputs": [
    {
     "name": "stdout",
     "output_type": "stream",
     "text": [
      "['arroz', 'frango', 'tomate', 'leite']\n"
     ]
    }
   ],
   "source": [
    "print(lista_2)"
   ]
  },
  {
   "cell_type": "code",
   "execution_count": 186,
   "id": "e379a70b",
   "metadata": {},
   "outputs": [],
   "source": [
    "lista_3 = [23, 100, \"Ceintista de Dados\"]"
   ]
  },
  {
   "cell_type": "code",
   "execution_count": 187,
   "id": "1cbbd20f",
   "metadata": {},
   "outputs": [
    {
     "data": {
      "text/plain": [
       "list"
      ]
     },
     "execution_count": 187,
     "metadata": {},
     "output_type": "execute_result"
    }
   ],
   "source": [
    "type(lista_3)  # Verificando o tipo da lista"
   ]
  },
  {
   "cell_type": "code",
   "execution_count": 188,
   "id": "ff06430f",
   "metadata": {},
   "outputs": [
    {
     "name": "stdout",
     "output_type": "stream",
     "text": [
      "[23, 100, 'Ceintista de Dados']\n"
     ]
    }
   ],
   "source": [
    "print(lista_3)"
   ]
  },
  {
   "cell_type": "code",
   "execution_count": 189,
   "id": "b7e55b91",
   "metadata": {},
   "outputs": [],
   "source": [
    "item1 = lista_3[0]\n",
    "item2 = lista_3[1]\n",
    "item3 = lista_3[2]"
   ]
  },
  {
   "cell_type": "code",
   "execution_count": 190,
   "id": "51de3b8f",
   "metadata": {},
   "outputs": [
    {
     "name": "stdout",
     "output_type": "stream",
     "text": [
      "23 100 Ceintista de Dados\n"
     ]
    }
   ],
   "source": [
    "print(item1, item2, item3)  # Imprimindo os itens da lista"
   ]
  },
  {
   "cell_type": "markdown",
   "id": "ccc0a56d",
   "metadata": {},
   "source": [
    "## Atualizando Um Item da Lista"
   ]
  },
  {
   "cell_type": "code",
   "execution_count": 191,
   "id": "4a1fe451",
   "metadata": {},
   "outputs": [
    {
     "data": {
      "text/plain": [
       "['arroz', 'frango', 'tomate', 'leite']"
      ]
     },
     "execution_count": 191,
     "metadata": {},
     "output_type": "execute_result"
    }
   ],
   "source": [
    "lista_2"
   ]
  },
  {
   "cell_type": "code",
   "execution_count": 192,
   "id": "dbe6a144",
   "metadata": {},
   "outputs": [
    {
     "data": {
      "text/plain": [
       "'tomate'"
      ]
     },
     "execution_count": 192,
     "metadata": {},
     "output_type": "execute_result"
    }
   ],
   "source": [
    "lista_2[2]"
   ]
  },
  {
   "cell_type": "code",
   "execution_count": 193,
   "id": "6155a943",
   "metadata": {},
   "outputs": [],
   "source": [
    "lista_2[2] = \"chocolate\""
   ]
  },
  {
   "cell_type": "code",
   "execution_count": 194,
   "id": "d2737d5a",
   "metadata": {},
   "outputs": [
    {
     "data": {
      "text/plain": [
       "['arroz', 'frango', 'chocolate', 'leite']"
      ]
     },
     "execution_count": 194,
     "metadata": {},
     "output_type": "execute_result"
    }
   ],
   "source": [
    "lista_2"
   ]
  },
  {
   "cell_type": "markdown",
   "id": "ec2035b8",
   "metadata": {},
   "source": [
    "## Delete Um Item da Lista"
   ]
  },
  {
   "cell_type": "code",
   "execution_count": 195,
   "id": "286fefa1",
   "metadata": {},
   "outputs": [],
   "source": [
    "del lista_2[3]  # Deletando o item \"leite\""
   ]
  },
  {
   "cell_type": "code",
   "execution_count": 196,
   "id": "c1286a07",
   "metadata": {},
   "outputs": [
    {
     "data": {
      "text/plain": [
       "['arroz', 'frango', 'chocolate']"
      ]
     },
     "execution_count": 196,
     "metadata": {},
     "output_type": "execute_result"
    }
   ],
   "source": [
    "lista_2"
   ]
  },
  {
   "cell_type": "markdown",
   "id": "4a5db825",
   "metadata": {},
   "source": [
    "## Listas de Listas (Listas Aninhadas)"
   ]
  },
  {
   "cell_type": "code",
   "execution_count": 197,
   "id": "134a49ac",
   "metadata": {},
   "outputs": [],
   "source": [
    "listas = [[1,2,3], [10,15,14], [10.1,8.7,2.3]] # Listas de listas"
   ]
  },
  {
   "cell_type": "code",
   "execution_count": 198,
   "id": "a3ef4734",
   "metadata": {},
   "outputs": [
    {
     "name": "stdout",
     "output_type": "stream",
     "text": [
      "[[1, 2, 3], [10, 15, 14], [10.1, 8.7, 2.3]]\n"
     ]
    }
   ],
   "source": [
    "print(listas)"
   ]
  },
  {
   "cell_type": "code",
   "execution_count": 199,
   "id": "85606caf",
   "metadata": {},
   "outputs": [],
   "source": [
    "a = listas[0] # Acessando a primeira lista"
   ]
  },
  {
   "cell_type": "code",
   "execution_count": 200,
   "id": "6112a991",
   "metadata": {},
   "outputs": [
    {
     "data": {
      "text/plain": [
       "[1, 2, 3]"
      ]
     },
     "execution_count": 200,
     "metadata": {},
     "output_type": "execute_result"
    }
   ],
   "source": [
    "a"
   ]
  },
  {
   "cell_type": "code",
   "execution_count": 201,
   "id": "8306bd51",
   "metadata": {},
   "outputs": [],
   "source": [
    "b = a[0] # Acessando o primeiro item da lista a"
   ]
  },
  {
   "cell_type": "code",
   "execution_count": 202,
   "id": "e45d28a6",
   "metadata": {},
   "outputs": [
    {
     "data": {
      "text/plain": [
       "1"
      ]
     },
     "execution_count": 202,
     "metadata": {},
     "output_type": "execute_result"
    }
   ],
   "source": [
    "b"
   ]
  },
  {
   "cell_type": "code",
   "execution_count": 203,
   "id": "531c4a77",
   "metadata": {},
   "outputs": [],
   "source": [
    "list1 = listas[1] # Acessando a segunda lista"
   ]
  },
  {
   "cell_type": "code",
   "execution_count": 204,
   "id": "957b9033",
   "metadata": {},
   "outputs": [
    {
     "data": {
      "text/plain": [
       "[10, 15, 14]"
      ]
     },
     "execution_count": 204,
     "metadata": {},
     "output_type": "execute_result"
    }
   ],
   "source": [
    "list1"
   ]
  },
  {
   "cell_type": "code",
   "execution_count": 205,
   "id": "2ea21657",
   "metadata": {},
   "outputs": [],
   "source": [
    "valor_1_0 = list1[0]  # Acessando o primeiro item da lista list1"
   ]
  },
  {
   "cell_type": "code",
   "execution_count": 206,
   "id": "3929afb3",
   "metadata": {},
   "outputs": [
    {
     "data": {
      "text/plain": [
       "10"
      ]
     },
     "execution_count": 206,
     "metadata": {},
     "output_type": "execute_result"
    }
   ],
   "source": [
    "valor_1_0"
   ]
  },
  {
   "cell_type": "code",
   "execution_count": 207,
   "id": "84dc9dd6",
   "metadata": {},
   "outputs": [],
   "source": [
    "valor_1_2 = list1[2]  # Acessando o terceiro item da lista list1"
   ]
  },
  {
   "cell_type": "code",
   "execution_count": 208,
   "id": "12e4a853",
   "metadata": {},
   "outputs": [
    {
     "data": {
      "text/plain": [
       "14"
      ]
     },
     "execution_count": 208,
     "metadata": {},
     "output_type": "execute_result"
    }
   ],
   "source": [
    "valor_1_2"
   ]
  },
  {
   "cell_type": "code",
   "execution_count": 209,
   "id": "a43ca413",
   "metadata": {},
   "outputs": [],
   "source": [
    "list2 = listas[2]  # Acessando a terceira lista"
   ]
  },
  {
   "cell_type": "code",
   "execution_count": 210,
   "id": "73d22c9b",
   "metadata": {},
   "outputs": [
    {
     "data": {
      "text/plain": [
       "[10.1, 8.7, 2.3]"
      ]
     },
     "execution_count": 210,
     "metadata": {},
     "output_type": "execute_result"
    }
   ],
   "source": [
    "list2"
   ]
  },
  {
   "cell_type": "code",
   "execution_count": 211,
   "id": "2f0026e2",
   "metadata": {},
   "outputs": [],
   "source": [
    "valor_2_0 = list2[0]  # Acessando o primeiro item da lista list2"
   ]
  },
  {
   "cell_type": "code",
   "execution_count": 212,
   "id": "67b6d9ab",
   "metadata": {},
   "outputs": [
    {
     "data": {
      "text/plain": [
       "10.1"
      ]
     },
     "execution_count": 212,
     "metadata": {},
     "output_type": "execute_result"
    }
   ],
   "source": [
    "valor_2_0"
   ]
  },
  {
   "cell_type": "markdown",
   "id": "732493af",
   "metadata": {},
   "source": [
    "## Operações com Listas"
   ]
  },
  {
   "cell_type": "code",
   "execution_count": 213,
   "id": "a02f4e09",
   "metadata": {},
   "outputs": [],
   "source": [
    "listas = [[1,2,3], [10,15,14], [10.1,8.7,2.3]] # Listas de listas (listas aninhadas)"
   ]
  },
  {
   "cell_type": "code",
   "execution_count": 214,
   "id": "00c3b654",
   "metadata": {},
   "outputs": [
    {
     "data": {
      "text/plain": [
       "[[1, 2, 3], [10, 15, 14], [10.1, 8.7, 2.3]]"
      ]
     },
     "execution_count": 214,
     "metadata": {},
     "output_type": "execute_result"
    }
   ],
   "source": [
    "listas"
   ]
  },
  {
   "cell_type": "code",
   "execution_count": 215,
   "id": "4b6d993a",
   "metadata": {},
   "outputs": [],
   "source": [
    "a = listas[0][0]  # Acessando o primeiro item da primeira lista"
   ]
  },
  {
   "cell_type": "code",
   "execution_count": 216,
   "id": "ff23f3f4",
   "metadata": {},
   "outputs": [
    {
     "data": {
      "text/plain": [
       "1"
      ]
     },
     "execution_count": 216,
     "metadata": {},
     "output_type": "execute_result"
    }
   ],
   "source": [
    "a"
   ]
  },
  {
   "cell_type": "code",
   "execution_count": 217,
   "id": "7c58128d",
   "metadata": {},
   "outputs": [],
   "source": [
    "b = listas[1][2]"
   ]
  },
  {
   "cell_type": "code",
   "execution_count": 218,
   "id": "343c4e45",
   "metadata": {},
   "outputs": [
    {
     "data": {
      "text/plain": [
       "14"
      ]
     },
     "execution_count": 218,
     "metadata": {},
     "output_type": "execute_result"
    }
   ],
   "source": [
    "b"
   ]
  },
  {
   "cell_type": "code",
   "execution_count": 219,
   "id": "e5d6f4b6",
   "metadata": {},
   "outputs": [],
   "source": [
    "c = listas[0][2] + 10"
   ]
  },
  {
   "cell_type": "code",
   "execution_count": 220,
   "id": "67d7dce1",
   "metadata": {},
   "outputs": [
    {
     "data": {
      "text/plain": [
       "13"
      ]
     },
     "execution_count": 220,
     "metadata": {},
     "output_type": "execute_result"
    }
   ],
   "source": [
    "c"
   ]
  },
  {
   "cell_type": "code",
   "execution_count": 221,
   "id": "5b98a6b4",
   "metadata": {},
   "outputs": [],
   "source": [
    "d = 10"
   ]
  },
  {
   "cell_type": "code",
   "execution_count": 222,
   "id": "5fa97f78",
   "metadata": {},
   "outputs": [
    {
     "data": {
      "text/plain": [
       "10"
      ]
     },
     "execution_count": 222,
     "metadata": {},
     "output_type": "execute_result"
    }
   ],
   "source": [
    "d"
   ]
  },
  {
   "cell_type": "code",
   "execution_count": 223,
   "id": "94a42919",
   "metadata": {},
   "outputs": [],
   "source": [
    "e = d * listas[2][0]  # Multiplicando o segundo item da primeira lista por d"
   ]
  },
  {
   "cell_type": "code",
   "execution_count": 224,
   "id": "b56526f9",
   "metadata": {},
   "outputs": [
    {
     "data": {
      "text/plain": [
       "101.0"
      ]
     },
     "execution_count": 224,
     "metadata": {},
     "output_type": "execute_result"
    }
   ],
   "source": [
    "e"
   ]
  },
  {
   "cell_type": "markdown",
   "id": "be10f906",
   "metadata": {},
   "source": [
    "## Concatenando Listas"
   ]
  },
  {
   "cell_type": "code",
   "execution_count": 225,
   "id": "c0f7c4e2",
   "metadata": {},
   "outputs": [],
   "source": [
    "lista_s1 = [43, 32, 56]"
   ]
  },
  {
   "cell_type": "code",
   "execution_count": 226,
   "id": "aaf8417a",
   "metadata": {},
   "outputs": [
    {
     "data": {
      "text/plain": [
       "[43, 32, 56]"
      ]
     },
     "execution_count": 226,
     "metadata": {},
     "output_type": "execute_result"
    }
   ],
   "source": [
    "lista_s1"
   ]
  },
  {
   "cell_type": "code",
   "execution_count": 227,
   "id": "a09219e3",
   "metadata": {},
   "outputs": [],
   "source": [
    "lista_s2 = [21, 90, 51]"
   ]
  },
  {
   "cell_type": "code",
   "execution_count": 228,
   "id": "8902dae4",
   "metadata": {},
   "outputs": [
    {
     "data": {
      "text/plain": [
       "[21, 90, 51]"
      ]
     },
     "execution_count": 228,
     "metadata": {},
     "output_type": "execute_result"
    }
   ],
   "source": [
    "lista_s2"
   ]
  },
  {
   "cell_type": "code",
   "execution_count": 229,
   "id": "9bf38bd4",
   "metadata": {},
   "outputs": [],
   "source": [
    "lista_total = lista_s1 + lista_s2  # Concatenando as duas listas"
   ]
  },
  {
   "cell_type": "code",
   "execution_count": 230,
   "id": "85ffa47e",
   "metadata": {},
   "outputs": [
    {
     "data": {
      "text/plain": [
       "[43, 32, 56, 21, 90, 51]"
      ]
     },
     "execution_count": 230,
     "metadata": {},
     "output_type": "execute_result"
    }
   ],
   "source": [
    "lista_total"
   ]
  },
  {
   "cell_type": "markdown",
   "id": "5184211c",
   "metadata": {},
   "source": [
    "## Operador `in`"
   ]
  },
  {
   "cell_type": "code",
   "execution_count": 231,
   "id": "c4c38290",
   "metadata": {},
   "outputs": [],
   "source": [
    "lista_teste_op = [100, 2, -5, 3.4]"
   ]
  },
  {
   "cell_type": "code",
   "execution_count": 232,
   "id": "99da45bd",
   "metadata": {},
   "outputs": [
    {
     "name": "stdout",
     "output_type": "stream",
     "text": [
      "False\n"
     ]
    }
   ],
   "source": [
    "print(10 in lista_teste_op)  # Verificando se 10 está na lista"
   ]
  },
  {
   "cell_type": "code",
   "execution_count": 233,
   "id": "cc8e456b",
   "metadata": {},
   "outputs": [
    {
     "name": "stdout",
     "output_type": "stream",
     "text": [
      "True\n"
     ]
    }
   ],
   "source": [
    "print(100 in lista_teste_op) "
   ]
  },
  {
   "cell_type": "markdown",
   "id": "bf88d9fd",
   "metadata": {},
   "source": [
    "## Funções Built-in"
   ]
  },
  {
   "cell_type": "code",
   "execution_count": 234,
   "id": "c74be102",
   "metadata": {},
   "outputs": [],
   "source": [
    "lista_numeros = [10, 20, 50, -3.4]"
   ]
  },
  {
   "cell_type": "code",
   "execution_count": 235,
   "id": "442d2e13",
   "metadata": {},
   "outputs": [
    {
     "data": {
      "text/plain": [
       "4"
      ]
     },
     "execution_count": 235,
     "metadata": {},
     "output_type": "execute_result"
    }
   ],
   "source": [
    "len(lista_numeros)  # Verificando o tamanho da lista"
   ]
  },
  {
   "cell_type": "code",
   "execution_count": 236,
   "id": "44191c55",
   "metadata": {},
   "outputs": [
    {
     "data": {
      "text/plain": [
       "50"
      ]
     },
     "execution_count": 236,
     "metadata": {},
     "output_type": "execute_result"
    }
   ],
   "source": [
    "max(lista_numeros)  # Verificando o maior valor da lista"
   ]
  },
  {
   "cell_type": "code",
   "execution_count": 237,
   "id": "3b8869be",
   "metadata": {},
   "outputs": [
    {
     "data": {
      "text/plain": [
       "-3.4"
      ]
     },
     "execution_count": 237,
     "metadata": {},
     "output_type": "execute_result"
    }
   ],
   "source": [
    "min(lista_numeros)  # Verificando o menor valor da lista"
   ]
  },
  {
   "cell_type": "code",
   "execution_count": 238,
   "id": "79a5ac1e",
   "metadata": {},
   "outputs": [],
   "source": [
    "lista_formacoes_dsa = [\"Analista de Dados\", \"Cientista de Dados\", \"Engenheiro de Dados\"]"
   ]
  },
  {
   "cell_type": "code",
   "execution_count": 239,
   "id": "7717f3cd",
   "metadata": {},
   "outputs": [
    {
     "data": {
      "text/plain": [
       "['Analista de Dados', 'Cientista de Dados', 'Engenheiro de Dados']"
      ]
     },
     "execution_count": 239,
     "metadata": {},
     "output_type": "execute_result"
    }
   ],
   "source": [
    "lista_formacoes_dsa"
   ]
  },
  {
   "cell_type": "code",
   "execution_count": 240,
   "id": "1edc7885",
   "metadata": {},
   "outputs": [],
   "source": [
    "lista_formacoes_dsa.append(\"Engenheiro de IA\") # Adicionando um novo item à lista"
   ]
  },
  {
   "cell_type": "code",
   "execution_count": 241,
   "id": "6cc61712",
   "metadata": {},
   "outputs": [
    {
     "data": {
      "text/plain": [
       "['Analista de Dados',\n",
       " 'Cientista de Dados',\n",
       " 'Engenheiro de Dados',\n",
       " 'Engenheiro de IA']"
      ]
     },
     "execution_count": 241,
     "metadata": {},
     "output_type": "execute_result"
    }
   ],
   "source": [
    "lista_formacoes_dsa"
   ]
  },
  {
   "cell_type": "code",
   "execution_count": 242,
   "id": "c24c56ae",
   "metadata": {},
   "outputs": [
    {
     "data": {
      "text/plain": [
       "1"
      ]
     },
     "execution_count": 242,
     "metadata": {},
     "output_type": "execute_result"
    }
   ],
   "source": [
    "lista_formacoes_dsa.count(\"Engenheiro de IA\") "
   ]
  },
  {
   "cell_type": "code",
   "execution_count": 243,
   "id": "27cdb595",
   "metadata": {},
   "outputs": [],
   "source": [
    "a = []"
   ]
  },
  {
   "cell_type": "code",
   "execution_count": 244,
   "id": "0fcb0cca",
   "metadata": {},
   "outputs": [
    {
     "name": "stdout",
     "output_type": "stream",
     "text": [
      "[]\n"
     ]
    }
   ],
   "source": [
    "print(a)"
   ]
  },
  {
   "cell_type": "code",
   "execution_count": 245,
   "id": "46ae6f47",
   "metadata": {},
   "outputs": [
    {
     "data": {
      "text/plain": [
       "list"
      ]
     },
     "execution_count": 245,
     "metadata": {},
     "output_type": "execute_result"
    }
   ],
   "source": [
    "type(a)  # Verificando o tipo da lista"
   ]
  },
  {
   "cell_type": "code",
   "execution_count": 246,
   "id": "875cc39d",
   "metadata": {},
   "outputs": [],
   "source": [
    "a.append(10)  # Adicionando um item à lista"
   ]
  },
  {
   "cell_type": "code",
   "execution_count": 247,
   "id": "3028ffc1",
   "metadata": {},
   "outputs": [
    {
     "data": {
      "text/plain": [
       "[10]"
      ]
     },
     "execution_count": 247,
     "metadata": {},
     "output_type": "execute_result"
    }
   ],
   "source": [
    "a"
   ]
  },
  {
   "cell_type": "code",
   "execution_count": 248,
   "id": "a6c2bcd2",
   "metadata": {},
   "outputs": [],
   "source": [
    "a.append(50)  # Adicionando um item à lista"
   ]
  },
  {
   "cell_type": "code",
   "execution_count": 249,
   "id": "0764f0b9",
   "metadata": {},
   "outputs": [
    {
     "data": {
      "text/plain": [
       "[10, 50]"
      ]
     },
     "execution_count": 249,
     "metadata": {},
     "output_type": "execute_result"
    }
   ],
   "source": [
    "a"
   ]
  },
  {
   "cell_type": "code",
   "execution_count": 250,
   "id": "58ec5d06",
   "metadata": {},
   "outputs": [],
   "source": [
    "old_list = [1, 2, 5, 10]"
   ]
  },
  {
   "cell_type": "code",
   "execution_count": 251,
   "id": "375dea50",
   "metadata": {},
   "outputs": [],
   "source": [
    "new_list = []"
   ]
  },
  {
   "cell_type": "code",
   "execution_count": 252,
   "id": "8e57a208",
   "metadata": {},
   "outputs": [],
   "source": [
    "for item in old_list:\n",
    "    new_list.append(item)"
   ]
  },
  {
   "cell_type": "code",
   "execution_count": 253,
   "id": "370600b2",
   "metadata": {},
   "outputs": [
    {
     "data": {
      "text/plain": [
       "[1, 2, 5, 10]"
      ]
     },
     "execution_count": 253,
     "metadata": {},
     "output_type": "execute_result"
    }
   ],
   "source": [
    "new_list"
   ]
  },
  {
   "cell_type": "code",
   "execution_count": 264,
   "id": "f0840e9b",
   "metadata": {},
   "outputs": [
    {
     "name": "stdout",
     "output_type": "stream",
     "text": [
      "['Recife', 'Manaus', 'Salvador', 'Fortaleza', 'Palmas']\n"
     ]
    }
   ],
   "source": [
    "cidades = ['Recife', 'Manaus', 'Salvador']\n",
    "cidades.extend(['Fortaleza', 'Palmas'])\n",
    "print(cidades)  # Imprimindo a lista de cidades "
   ]
  },
  {
   "cell_type": "code",
   "execution_count": 265,
   "id": "cf4ad342",
   "metadata": {},
   "outputs": [
    {
     "data": {
      "text/plain": [
       "2"
      ]
     },
     "execution_count": 265,
     "metadata": {},
     "output_type": "execute_result"
    }
   ],
   "source": [
    "cidades.index('Salvador')  # Verificando o índice de 'Salvador'"
   ]
  },
  {
   "cell_type": "markdown",
   "id": "5c75e653",
   "metadata": {},
   "source": [
    "> Lembre-se: em Python o índice começa por 0!!!"
   ]
  },
  {
   "cell_type": "code",
   "execution_count": 266,
   "id": "b8ae7cf8",
   "metadata": {},
   "outputs": [],
   "source": [
    "# cidades.index('Rio de Janeiro')  # Verificando o índice de 'Rio de Janeiro'"
   ]
  },
  {
   "cell_type": "code",
   "execution_count": 267,
   "id": "6f6d358b",
   "metadata": {},
   "outputs": [
    {
     "data": {
      "text/plain": [
       "['Recife', 'Manaus', 'Salvador', 'Fortaleza', 'Palmas']"
      ]
     },
     "execution_count": 267,
     "metadata": {},
     "output_type": "execute_result"
    }
   ],
   "source": [
    "cidades"
   ]
  },
  {
   "cell_type": "code",
   "execution_count": 268,
   "id": "4da8024a",
   "metadata": {},
   "outputs": [],
   "source": [
    "cidades.insert(2, 100)  # Inserindo 'Rio de Janeiro' na posição 2"
   ]
  },
  {
   "cell_type": "code",
   "execution_count": 269,
   "id": "5f01f666",
   "metadata": {},
   "outputs": [
    {
     "data": {
      "text/plain": [
       "['Recife', 'Manaus', 100, 'Salvador', 'Fortaleza', 'Palmas']"
      ]
     },
     "execution_count": 269,
     "metadata": {},
     "output_type": "execute_result"
    }
   ],
   "source": [
    "cidades"
   ]
  },
  {
   "cell_type": "code",
   "execution_count": 270,
   "id": "d2897b3e",
   "metadata": {},
   "outputs": [],
   "source": [
    "cidades.remove(100)  # Removendo o item 100 da lista"
   ]
  },
  {
   "cell_type": "code",
   "execution_count": 271,
   "id": "5a34db79",
   "metadata": {},
   "outputs": [
    {
     "data": {
      "text/plain": [
       "['Recife', 'Manaus', 'Salvador', 'Fortaleza', 'Palmas']"
      ]
     },
     "execution_count": 271,
     "metadata": {},
     "output_type": "execute_result"
    }
   ],
   "source": [
    "cidades"
   ]
  },
  {
   "cell_type": "code",
   "execution_count": 272,
   "id": "17af84c1",
   "metadata": {},
   "outputs": [],
   "source": [
    "cidades.reverse()"
   ]
  },
  {
   "cell_type": "code",
   "execution_count": 273,
   "id": "2d88f73d",
   "metadata": {},
   "outputs": [
    {
     "data": {
      "text/plain": [
       "['Palmas', 'Fortaleza', 'Salvador', 'Manaus', 'Recife']"
      ]
     },
     "execution_count": 273,
     "metadata": {},
     "output_type": "execute_result"
    }
   ],
   "source": [
    "cidades"
   ]
  },
  {
   "cell_type": "code",
   "execution_count": 274,
   "id": "e025b23b",
   "metadata": {},
   "outputs": [],
   "source": [
    "x = [3, 4, 2, 1,]"
   ]
  },
  {
   "cell_type": "code",
   "execution_count": 275,
   "id": "d431e049",
   "metadata": {},
   "outputs": [
    {
     "data": {
      "text/plain": [
       "[3, 4, 2, 1]"
      ]
     },
     "execution_count": 275,
     "metadata": {},
     "output_type": "execute_result"
    }
   ],
   "source": [
    "x"
   ]
  },
  {
   "cell_type": "code",
   "execution_count": 276,
   "id": "8487600f",
   "metadata": {},
   "outputs": [],
   "source": [
    "x.sort()  # Ordenando a lista x"
   ]
  },
  {
   "cell_type": "code",
   "execution_count": 277,
   "id": "3c818d58",
   "metadata": {},
   "outputs": [
    {
     "data": {
      "text/plain": [
       "[1, 2, 3, 4]"
      ]
     },
     "execution_count": 277,
     "metadata": {},
     "output_type": "execute_result"
    }
   ],
   "source": [
    "x"
   ]
  },
  {
   "cell_type": "markdown",
   "id": "66ddf504",
   "metadata": {},
   "source": [
    "# FIM"
   ]
  }
 ],
 "metadata": {
  "kernelspec": {
   "display_name": "python-dsa",
   "language": "python",
   "name": "python3"
  },
  "language_info": {
   "codemirror_mode": {
    "name": "ipython",
    "version": 3
   },
   "file_extension": ".py",
   "mimetype": "text/x-python",
   "name": "python",
   "nbconvert_exporter": "python",
   "pygments_lexer": "ipython3",
   "version": "3.9.6"
  }
 },
 "nbformat": 4,
 "nbformat_minor": 5
}
