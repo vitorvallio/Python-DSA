{
 "cells": [
  {
   "cell_type": "markdown",
   "id": "da9cd244",
   "metadata": {},
   "source": [
    "# Capítulo 4 - Estruturas de Dados (Tuplas)"
   ]
  },
  {
   "cell_type": "code",
   "execution_count": 24,
   "id": "ded0d0dc",
   "metadata": {},
   "outputs": [],
   "source": [
    "tupla1 = (\"Geografia\", 23, \"Elefante\", 9.8, 'Pythopn')"
   ]
  },
  {
   "cell_type": "code",
   "execution_count": 25,
   "id": "2e4ab9b2",
   "metadata": {},
   "outputs": [
    {
     "data": {
      "text/plain": [
       "('Geografia', 23, 'Elefante', 9.8, 'Pythopn')"
      ]
     },
     "execution_count": 25,
     "metadata": {},
     "output_type": "execute_result"
    }
   ],
   "source": [
    "tupla1"
   ]
  },
  {
   "cell_type": "code",
   "execution_count": 26,
   "id": "d0583da4",
   "metadata": {},
   "outputs": [],
   "source": [
    "# tupla1.append(\"Chocolate\")"
   ]
  },
  {
   "cell_type": "code",
   "execution_count": 27,
   "id": "e838213b",
   "metadata": {},
   "outputs": [],
   "source": [
    "# del tupla1[\"Elefante\"]"
   ]
  },
  {
   "cell_type": "code",
   "execution_count": 28,
   "id": "d9d1c334",
   "metadata": {},
   "outputs": [],
   "source": [
    "tupla1 = (\"Clocolate\")"
   ]
  },
  {
   "cell_type": "code",
   "execution_count": 29,
   "id": "1cfa6a1d",
   "metadata": {},
   "outputs": [
    {
     "data": {
      "text/plain": [
       "'Clocolate'"
      ]
     },
     "execution_count": 29,
     "metadata": {},
     "output_type": "execute_result"
    }
   ],
   "source": [
    "tupla1"
   ]
  },
  {
   "cell_type": "code",
   "execution_count": 30,
   "id": "18b8ee5b",
   "metadata": {},
   "outputs": [],
   "source": [
    "tupla1 = (\"Geografia\", 23, \"Elefante\", 9.8, 'Pythopn')"
   ]
  },
  {
   "cell_type": "code",
   "execution_count": 31,
   "id": "bb72674f",
   "metadata": {},
   "outputs": [
    {
     "data": {
      "text/plain": [
       "'Geografia'"
      ]
     },
     "execution_count": 31,
     "metadata": {},
     "output_type": "execute_result"
    }
   ],
   "source": [
    "tupla1[0]"
   ]
  },
  {
   "cell_type": "code",
   "execution_count": 32,
   "id": "8f1df53e",
   "metadata": {},
   "outputs": [
    {
     "data": {
      "text/plain": [
       "5"
      ]
     },
     "execution_count": 32,
     "metadata": {},
     "output_type": "execute_result"
    }
   ],
   "source": [
    "len(tupla1)"
   ]
  },
  {
   "cell_type": "code",
   "execution_count": 33,
   "id": "2bcb6a0d",
   "metadata": {},
   "outputs": [
    {
     "data": {
      "text/plain": [
       "(23, 'Elefante', 9.8, 'Pythopn')"
      ]
     },
     "execution_count": 33,
     "metadata": {},
     "output_type": "execute_result"
    }
   ],
   "source": [
    "tupla1[1:]"
   ]
  },
  {
   "cell_type": "code",
   "execution_count": 34,
   "id": "2a62a9a1",
   "metadata": {},
   "outputs": [
    {
     "data": {
      "text/plain": [
       "2"
      ]
     },
     "execution_count": 34,
     "metadata": {},
     "output_type": "execute_result"
    }
   ],
   "source": [
    "tupla1.index(\"Elefante\")"
   ]
  },
  {
   "cell_type": "code",
   "execution_count": 35,
   "id": "39a8ba41",
   "metadata": {},
   "outputs": [],
   "source": [
    "#tupla1[1] = 21"
   ]
  },
  {
   "cell_type": "code",
   "execution_count": 36,
   "id": "55e214bf",
   "metadata": {},
   "outputs": [],
   "source": [
    "del tupla1"
   ]
  },
  {
   "cell_type": "code",
   "execution_count": 37,
   "id": "0abe273a",
   "metadata": {},
   "outputs": [],
   "source": [
    "#tupla1"
   ]
  },
  {
   "cell_type": "code",
   "execution_count": 38,
   "id": "ed1aba91",
   "metadata": {},
   "outputs": [],
   "source": [
    "t2 = ('A', 'B', 'C')"
   ]
  },
  {
   "cell_type": "code",
   "execution_count": 39,
   "id": "02a860ab",
   "metadata": {},
   "outputs": [
    {
     "data": {
      "text/plain": [
       "('A', 'B', 'C')"
      ]
     },
     "execution_count": 39,
     "metadata": {},
     "output_type": "execute_result"
    }
   ],
   "source": [
    "t2"
   ]
  },
  {
   "cell_type": "code",
   "execution_count": 40,
   "id": "7931438e",
   "metadata": {},
   "outputs": [],
   "source": [
    "#t2[0] = 'D'"
   ]
  },
  {
   "cell_type": "code",
   "execution_count": 42,
   "id": "ae2566bb",
   "metadata": {},
   "outputs": [],
   "source": [
    "lista_t2 = list(t2)"
   ]
  },
  {
   "cell_type": "code",
   "execution_count": null,
   "id": "9b50983c",
   "metadata": {},
   "outputs": [
    {
     "data": {
      "text/plain": [
       "list"
      ]
     },
     "execution_count": 45,
     "metadata": {},
     "output_type": "execute_result"
    }
   ],
   "source": [
    "type(t2)"
   ]
  },
  {
   "cell_type": "code",
   "execution_count": 47,
   "id": "d8cbbc42",
   "metadata": {},
   "outputs": [
    {
     "data": {
      "text/plain": [
       "list"
      ]
     },
     "execution_count": 47,
     "metadata": {},
     "output_type": "execute_result"
    }
   ],
   "source": [
    "type(lista_t2)"
   ]
  },
  {
   "cell_type": "code",
   "execution_count": 48,
   "id": "3eee0ee3",
   "metadata": {},
   "outputs": [],
   "source": [
    "lista_t2.append('D')"
   ]
  },
  {
   "cell_type": "code",
   "execution_count": 49,
   "id": "6c880a2e",
   "metadata": {},
   "outputs": [],
   "source": [
    "t2 = tuple(lista_t2)"
   ]
  },
  {
   "cell_type": "code",
   "execution_count": 50,
   "id": "bf165902",
   "metadata": {},
   "outputs": [
    {
     "data": {
      "text/plain": [
       "('A', 'B', 'C', 'D')"
      ]
     },
     "execution_count": 50,
     "metadata": {},
     "output_type": "execute_result"
    }
   ],
   "source": [
    "t2"
   ]
  },
  {
   "cell_type": "markdown",
   "id": "8380ebbc",
   "metadata": {},
   "source": [
    "# FIM"
   ]
  }
 ],
 "metadata": {
  "kernelspec": {
   "display_name": "python-dsa",
   "language": "python",
   "name": "python3"
  },
  "language_info": {
   "codemirror_mode": {
    "name": "ipython",
    "version": 3
   },
   "file_extension": ".py",
   "mimetype": "text/x-python",
   "name": "python",
   "nbconvert_exporter": "python",
   "pygments_lexer": "ipython3",
   "version": "3.9.6"
  }
 },
 "nbformat": 4,
 "nbformat_minor": 5
}
