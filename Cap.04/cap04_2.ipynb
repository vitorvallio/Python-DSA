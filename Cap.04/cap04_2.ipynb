{
 "cells": [
  {
   "cell_type": "markdown",
   "id": "33befd52",
   "metadata": {},
   "source": [
    "# Capítulo 4 - Variáveis"
   ]
  },
  {
   "cell_type": "markdown",
   "id": "3a4246c7",
   "metadata": {},
   "source": [
    "## Trabalhando com variáveis"
   ]
  },
  {
   "cell_type": "code",
   "execution_count": 51,
   "id": "424afa2c",
   "metadata": {},
   "outputs": [],
   "source": [
    "# Atribuindo o valor 1 ã variável var_test\n",
    "var_test = 1"
   ]
  },
  {
   "cell_type": "code",
   "execution_count": 52,
   "id": "20d99ba5",
   "metadata": {},
   "outputs": [
    {
     "data": {
      "text/plain": [
       "1"
      ]
     },
     "execution_count": 52,
     "metadata": {},
     "output_type": "execute_result"
    }
   ],
   "source": [
    "# Imprimendo o valor da variável\n",
    "var_test"
   ]
  },
  {
   "cell_type": "code",
   "execution_count": 53,
   "id": "cecbbf59",
   "metadata": {},
   "outputs": [
    {
     "name": "stdout",
     "output_type": "stream",
     "text": [
      "1\n"
     ]
    }
   ],
   "source": [
    "# Imprimindo o valor da variável\n",
    "print(var_test)"
   ]
  },
  {
   "cell_type": "code",
   "execution_count": 54,
   "id": "a44a16b6",
   "metadata": {},
   "outputs": [],
   "source": [
    "# Não podemos utilizar uma variável que não foi definida, Leia a mensagem de erro\n",
    "# my_var"
   ]
  },
  {
   "cell_type": "code",
   "execution_count": 55,
   "id": "8627be26",
   "metadata": {},
   "outputs": [],
   "source": [
    "var_test = 2"
   ]
  },
  {
   "cell_type": "code",
   "execution_count": 56,
   "id": "0e50c74c",
   "metadata": {},
   "outputs": [
    {
     "data": {
      "text/plain": [
       "2"
      ]
     },
     "execution_count": 56,
     "metadata": {},
     "output_type": "execute_result"
    }
   ],
   "source": [
    "var_test"
   ]
  },
  {
   "cell_type": "code",
   "execution_count": 57,
   "id": "ca7a1ed6",
   "metadata": {},
   "outputs": [
    {
     "data": {
      "text/plain": [
       "int"
      ]
     },
     "execution_count": 57,
     "metadata": {},
     "output_type": "execute_result"
    }
   ],
   "source": [
    "type(var_test)"
   ]
  },
  {
   "cell_type": "code",
   "execution_count": 58,
   "id": "3b267cf7",
   "metadata": {},
   "outputs": [],
   "source": [
    "var_test = 9.5"
   ]
  },
  {
   "cell_type": "code",
   "execution_count": 59,
   "id": "85dde84a",
   "metadata": {},
   "outputs": [
    {
     "data": {
      "text/plain": [
       "float"
      ]
     },
     "execution_count": 59,
     "metadata": {},
     "output_type": "execute_result"
    }
   ],
   "source": [
    "type(var_test)"
   ]
  },
  {
   "cell_type": "code",
   "execution_count": 60,
   "id": "b1071447",
   "metadata": {},
   "outputs": [],
   "source": [
    "x = 1"
   ]
  },
  {
   "cell_type": "code",
   "execution_count": 61,
   "id": "5c09630a",
   "metadata": {},
   "outputs": [
    {
     "data": {
      "text/plain": [
       "1"
      ]
     },
     "execution_count": 61,
     "metadata": {},
     "output_type": "execute_result"
    }
   ],
   "source": [
    "x"
   ]
  },
  {
   "cell_type": "markdown",
   "id": "fd314a2f",
   "metadata": {},
   "source": [
    "## Declaração Múltipla"
   ]
  },
  {
   "cell_type": "code",
   "execution_count": 62,
   "id": "c1dad434",
   "metadata": {},
   "outputs": [],
   "source": [
    "pessoa1, pessoa2, pessoa3 = \"Bob\", \"Maria\", \"Ana\""
   ]
  },
  {
   "cell_type": "code",
   "execution_count": 63,
   "id": "2c7c2d17",
   "metadata": {},
   "outputs": [
    {
     "data": {
      "text/plain": [
       "'Bob'"
      ]
     },
     "execution_count": 63,
     "metadata": {},
     "output_type": "execute_result"
    }
   ],
   "source": [
    "pessoa1"
   ]
  },
  {
   "cell_type": "code",
   "execution_count": 64,
   "id": "879eb66d",
   "metadata": {},
   "outputs": [
    {
     "data": {
      "text/plain": [
       "'Maria'"
      ]
     },
     "execution_count": 64,
     "metadata": {},
     "output_type": "execute_result"
    }
   ],
   "source": [
    "pessoa2"
   ]
  },
  {
   "cell_type": "code",
   "execution_count": 65,
   "id": "6b5c39c0",
   "metadata": {},
   "outputs": [
    {
     "data": {
      "text/plain": [
       "'Ana'"
      ]
     },
     "execution_count": 65,
     "metadata": {},
     "output_type": "execute_result"
    }
   ],
   "source": [
    "pessoa3"
   ]
  },
  {
   "cell_type": "code",
   "execution_count": 66,
   "id": "f7852164",
   "metadata": {},
   "outputs": [],
   "source": [
    "fruta1 = fruta2 = fruta3 = \"Melancia\""
   ]
  },
  {
   "cell_type": "code",
   "execution_count": 67,
   "id": "9bd8a662",
   "metadata": {},
   "outputs": [
    {
     "data": {
      "text/plain": [
       "'Melancia'"
      ]
     },
     "execution_count": 67,
     "metadata": {},
     "output_type": "execute_result"
    }
   ],
   "source": [
    "fruta1"
   ]
  },
  {
   "cell_type": "code",
   "execution_count": 68,
   "id": "67408cdc",
   "metadata": {},
   "outputs": [
    {
     "data": {
      "text/plain": [
       "'Melancia'"
      ]
     },
     "execution_count": 68,
     "metadata": {},
     "output_type": "execute_result"
    }
   ],
   "source": [
    "fruta2"
   ]
  },
  {
   "cell_type": "code",
   "execution_count": 69,
   "id": "1907db60",
   "metadata": {},
   "outputs": [],
   "source": [
    "# Fique atento!!! Python é case-sensitive/ Criamos a variável fruta2, mas não a variável Fruta2\n",
    "# Letras maiúsculas e minúsculas tem difença no nome da variável\n",
    "# Fruta2"
   ]
  },
  {
   "cell_type": "markdown",
   "id": "6dbd1880",
   "metadata": {},
   "source": [
    "     Pode-se usar letras, números e underlines em nome de variável (mas não se pode começar com números)."
   ]
  },
  {
   "cell_type": "code",
   "execution_count": 70,
   "id": "9368cb58",
   "metadata": {},
   "outputs": [],
   "source": [
    "x1 = 50"
   ]
  },
  {
   "cell_type": "code",
   "execution_count": 71,
   "id": "a5b78597",
   "metadata": {},
   "outputs": [
    {
     "data": {
      "text/plain": [
       "50"
      ]
     },
     "execution_count": 71,
     "metadata": {},
     "output_type": "execute_result"
    }
   ],
   "source": [
    "x1"
   ]
  },
  {
   "cell_type": "code",
   "execution_count": 73,
   "id": "e526037e",
   "metadata": {},
   "outputs": [],
   "source": [
    "# 1x = 50"
   ]
  },
  {
   "cell_type": "markdown",
   "id": "84982c7f",
   "metadata": {},
   "source": [
    "    Não se pode usar palavras reservadas como nome de variável.\n",
    "\n",
    ">False  \n",
    ">class  \n",
    ">finally    \n",
    ">is     \n",
    ">return     \n",
    ">None   \n",
    ">continue   \n",
    ">for    \n",
    ">lambda  \n",
    ">try    \n",
    ">True   \n",
    ">def    \n",
    ">from   \n",
    ">nonlocal   \n",
    ">while  \n",
    ">and    \n",
    ">del    \n",
    ">global  \n",
    ">not    \n",
    ">with   \n",
    ">as     \n",
    ">elif   \n",
    ">if     \n",
    ">or     \n",
    ">yield      \n",
    ">assert     \n",
    ">else       \n",
    ">import     \n",
    ">pass   \n",
    ">break  \n",
    ">except     \n",
    ">in     \n",
    ">raise      "
   ]
  },
  {
   "cell_type": "code",
   "execution_count": null,
   "id": "1bca9839",
   "metadata": {},
   "outputs": [],
   "source": [
    "# Não podemos usar palavra reservadas como nome de variável\n",
    "# break = 1"
   ]
  },
  {
   "cell_type": "markdown",
   "id": "27461689",
   "metadata": {},
   "source": [
    "## Variáveis Atribuídas a Outra Variáveis e Ordem dos operadores"
   ]
  },
  {
   "cell_type": "code",
   "execution_count": 85,
   "id": "62e9dc17",
   "metadata": {},
   "outputs": [],
   "source": [
    "largura = 2"
   ]
  },
  {
   "cell_type": "code",
   "execution_count": 86,
   "id": "0e13fbfc",
   "metadata": {},
   "outputs": [],
   "source": [
    "altura = 4"
   ]
  },
  {
   "cell_type": "code",
   "execution_count": 87,
   "id": "7328c38f",
   "metadata": {},
   "outputs": [],
   "source": [
    "area = largura * altura"
   ]
  },
  {
   "cell_type": "code",
   "execution_count": 88,
   "id": "f0fed208",
   "metadata": {},
   "outputs": [
    {
     "data": {
      "text/plain": [
       "8"
      ]
     },
     "execution_count": 88,
     "metadata": {},
     "output_type": "execute_result"
    }
   ],
   "source": [
    "area"
   ]
  },
  {
   "cell_type": "code",
   "execution_count": 89,
   "id": "1909c13f",
   "metadata": {},
   "outputs": [],
   "source": [
    "perimetro = 2 * (largura + altura)"
   ]
  },
  {
   "cell_type": "code",
   "execution_count": 90,
   "id": "c7fd33fa",
   "metadata": {},
   "outputs": [
    {
     "data": {
      "text/plain": [
       "12"
      ]
     },
     "execution_count": 90,
     "metadata": {},
     "output_type": "execute_result"
    }
   ],
   "source": [
    "perimetro"
   ]
  },
  {
   "cell_type": "code",
   "execution_count": 93,
   "id": "e774c965",
   "metadata": {},
   "outputs": [],
   "source": [
    "# A ordem dos operadores é a mesma seguida na Matemática\n",
    "perimetro = 2 * (largura + 2) * altura"
   ]
  },
  {
   "cell_type": "code",
   "execution_count": 94,
   "id": "f2e588a0",
   "metadata": {},
   "outputs": [
    {
     "data": {
      "text/plain": [
       "32"
      ]
     },
     "execution_count": 94,
     "metadata": {},
     "output_type": "execute_result"
    }
   ],
   "source": [
    "perimetro"
   ]
  },
  {
   "cell_type": "markdown",
   "id": "c5d1e74f",
   "metadata": {},
   "source": [
    "## Operações com Variáveis"
   ]
  },
  {
   "cell_type": "code",
   "execution_count": 95,
   "id": "309e6694",
   "metadata": {},
   "outputs": [],
   "source": [
    "idade1 = 25"
   ]
  },
  {
   "cell_type": "code",
   "execution_count": 96,
   "id": "5c247b1f",
   "metadata": {},
   "outputs": [],
   "source": [
    "idade2 = 35"
   ]
  },
  {
   "cell_type": "code",
   "execution_count": 97,
   "id": "aa226d75",
   "metadata": {},
   "outputs": [
    {
     "data": {
      "text/plain": [
       "60"
      ]
     },
     "execution_count": 97,
     "metadata": {},
     "output_type": "execute_result"
    }
   ],
   "source": [
    "idade1 + idade2"
   ]
  },
  {
   "cell_type": "code",
   "execution_count": 98,
   "id": "b0aa2f02",
   "metadata": {},
   "outputs": [
    {
     "data": {
      "text/plain": [
       "10"
      ]
     },
     "execution_count": 98,
     "metadata": {},
     "output_type": "execute_result"
    }
   ],
   "source": [
    "idade2 - idade1"
   ]
  },
  {
   "cell_type": "code",
   "execution_count": 99,
   "id": "24f3e110",
   "metadata": {},
   "outputs": [
    {
     "data": {
      "text/plain": [
       "875"
      ]
     },
     "execution_count": 99,
     "metadata": {},
     "output_type": "execute_result"
    }
   ],
   "source": [
    "idade1 * idade2"
   ]
  },
  {
   "cell_type": "code",
   "execution_count": 100,
   "id": "01d277cf",
   "metadata": {},
   "outputs": [
    {
     "data": {
      "text/plain": [
       "1.4"
      ]
     },
     "execution_count": 100,
     "metadata": {},
     "output_type": "execute_result"
    }
   ],
   "source": [
    "idade2 / idade1"
   ]
  },
  {
   "cell_type": "code",
   "execution_count": 101,
   "id": "c2f4bd80",
   "metadata": {},
   "outputs": [
    {
     "data": {
      "text/plain": [
       "10"
      ]
     },
     "execution_count": 101,
     "metadata": {},
     "output_type": "execute_result"
    }
   ],
   "source": [
    "idade2 % idade1"
   ]
  },
  {
   "cell_type": "markdown",
   "id": "658435e4",
   "metadata": {},
   "source": [
    "## Concatenação de Variáveis"
   ]
  },
  {
   "cell_type": "code",
   "execution_count": 102,
   "id": "0b272e3a",
   "metadata": {},
   "outputs": [],
   "source": [
    "nome = \"Bob\""
   ]
  },
  {
   "cell_type": "code",
   "execution_count": 103,
   "id": "4d17620e",
   "metadata": {},
   "outputs": [],
   "source": [
    "sobrenome = \"Marley\""
   ]
  },
  {
   "cell_type": "code",
   "execution_count": 104,
   "id": "b1904e03",
   "metadata": {},
   "outputs": [],
   "source": [
    "fullName = nome + \" \" + sobrenome"
   ]
  },
  {
   "cell_type": "code",
   "execution_count": 105,
   "id": "66672be6",
   "metadata": {},
   "outputs": [
    {
     "data": {
      "text/plain": [
       "'Bob Marley'"
      ]
     },
     "execution_count": 105,
     "metadata": {},
     "output_type": "execute_result"
    }
   ],
   "source": [
    "fullName"
   ]
  },
  {
   "cell_type": "markdown",
   "id": "a90832d3",
   "metadata": {},
   "source": [
    "# FIM"
   ]
  }
 ],
 "metadata": {
  "kernelspec": {
   "display_name": "python-dsa",
   "language": "python",
   "name": "python3"
  },
  "language_info": {
   "codemirror_mode": {
    "name": "ipython",
    "version": 3
   },
   "file_extension": ".py",
   "mimetype": "text/x-python",
   "name": "python",
   "nbconvert_exporter": "python",
   "pygments_lexer": "ipython3",
   "version": "3.9.6"
  }
 },
 "nbformat": 4,
 "nbformat_minor": 5
}
